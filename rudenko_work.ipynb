{
 "cells": [
  {
   "cell_type": "code",
   "execution_count": 1,
   "id": "2c5a65f7-ec86-40c6-84d2-5856fb878e35",
   "metadata": {},
   "outputs": [],
   "source": [
    "import numpy as np\n",
    "import pandas as pd\n",
    "import random\n",
    "\n",
    "from sklearn.model_selection import cross_val_score, train_test_split, KFold\n",
    "from sklearn.ensemble import RandomForestRegressor\n",
    "from sklearn.linear_model import LinearRegression\n",
    "from sklearn.metrics import r2_score as r2, mean_squared_error\n",
    "from sklearn.metrics import recall_score\n",
    "\n",
    "import matplotlib\n",
    "import matplotlib.pyplot as plt\n",
    "import seaborn as sns\n",
    "%matplotlib inline"
   ]
  },
  {
   "cell_type": "code",
   "execution_count": 2,
   "id": "5226ea0e-81ac-4d06-96d0-a1d06a94f665",
   "metadata": {},
   "outputs": [],
   "source": [
    "import warnings\n",
    "warnings. filterwarnings('ignore')"
   ]
  },
  {
   "cell_type": "code",
   "execution_count": 3,
   "id": "1e23b03b-5f28-402b-b381-ddc166769500",
   "metadata": {},
   "outputs": [],
   "source": [
    "matplotlib.rcParams.update({'font.size': 14})"
   ]
  },
  {
   "cell_type": "code",
   "execution_count": 4,
   "id": "72b16a41-5f11-4981-81e3-97e8472c3370",
   "metadata": {},
   "outputs": [],
   "source": [
    "def evaluate_preds(train_true_values, train_pred_values, test_true_values, test_pred_values):\n",
    "    print(\"Train R2:\\t\" + str(round(r2(train_true_values, train_pred_values), 3)))\n",
    "    print(\"Test R2:\\t\" + str(round(r2(test_true_values, test_pred_values), 3)))\n",
    "\n",
    "    plt.figure(figsize = (18,10))\n",
    "\n",
    "    plt.subplot(121)\n",
    "    sns.scatterplot(x = train_pred_values, y = train_true_values)\n",
    "    plt.xlabel('Predicted values')\n",
    "    plt.ylabel('True values')\n",
    "    plt.title('Train sample prediction')\n",
    "\n",
    "    plt.subplot(122)\n",
    "    sns.scatterplot(x = test_pred_values, y = test_true_values)\n",
    "    plt.xlabel('Predicted values')\n",
    "    plt.ylabel('True values')\n",
    "    plt.title('Test sample prediction')\n",
    "\n",
    "    plt.show( )"
   ]
  },
  {
   "cell_type": "code",
   "execution_count": 5,
   "id": "20429a56-7bfa-4250-85db-578f7398c75e",
   "metadata": {},
   "outputs": [],
   "source": [
    "TRAIN_DATASET_PATH = 'train.csv'\n",
    "TEST_DATASET_PATH = 'test.csv'"
   ]
  },
  {
   "cell_type": "markdown",
   "id": "e84d3285-4e88-4e27-b28a-6a1f04a7509d",
   "metadata": {},
   "source": [
    "__Описания полей датасета по недвижимости:__<br>\n",
    "Id - идентификационный номер квартиры<br>\n",
    "DistrictId - идентификационный номер района<br>\n",
    "Rooms - количество комнат<br>\n",
    "Square - площадь<br>\n",
    "LifeSquare - жилая площадь<br>\n",
    "KitchenSquare - площадь кухни<br>\n",
    "Floor - этаж<br>\n",
    "HouseFloor - количество этажей в доме<br>\n",
    "HouseYear - год постройки дома<br>\n",
    "Ecology_1, Ecology_2, Ecology_3 - экологические показатели местности<br>\n",
    "Social_1, Social_2, Social_3 - социальные показатели местности<br>\n",
    "Healthcare_1, Helthcare_2 - показатели местности, связанные с охраной здоровья<br>\n",
    "Shops_1, Shops_2 - показатели, связанные с наличием магазинов, торговых центров<br>\n",
    "Price - цена квартиры."
   ]
  },
  {
   "cell_type": "markdown",
   "id": "cf7ceb69-9b52-4c52-8011-e3d67c1333c4",
   "metadata": {},
   "source": [
    "__Цель:__<br>\n",
    "Используя данные датасета по недвижимости, построить модель для предсказания цен на недвижимость (квартиры).<br>\n",
    "С помощью полученной модели предсказать цены для квартир из файла test.csv.<br>\n",
    "Целевая переменная: __Price__"
   ]
  },
  {
   "cell_type": "code",
   "execution_count": 6,
   "id": "1528f4b0-3a4c-481a-9e9e-8b184cfae009",
   "metadata": {},
   "outputs": [
    {
     "data": {
      "text/html": [
       "<div>\n",
       "<style scoped>\n",
       "    .dataframe tbody tr th:only-of-type {\n",
       "        vertical-align: middle;\n",
       "    }\n",
       "\n",
       "    .dataframe tbody tr th {\n",
       "        vertical-align: top;\n",
       "    }\n",
       "\n",
       "    .dataframe thead th {\n",
       "        text-align: right;\n",
       "    }\n",
       "</style>\n",
       "<table border=\"1\" class=\"dataframe\">\n",
       "  <thead>\n",
       "    <tr style=\"text-align: right;\">\n",
       "      <th></th>\n",
       "      <th>DistrictId</th>\n",
       "      <th>Rooms</th>\n",
       "      <th>Square</th>\n",
       "      <th>LifeSquare</th>\n",
       "      <th>KitchenSquare</th>\n",
       "      <th>Floor</th>\n",
       "      <th>HouseFloor</th>\n",
       "      <th>HouseYear</th>\n",
       "      <th>Ecology_1</th>\n",
       "      <th>Ecology_2</th>\n",
       "      <th>Ecology_3</th>\n",
       "      <th>Social_1</th>\n",
       "      <th>Social_2</th>\n",
       "      <th>Social_3</th>\n",
       "      <th>Healthcare_1</th>\n",
       "      <th>Helthcare_2</th>\n",
       "      <th>Shops_1</th>\n",
       "      <th>Shops_2</th>\n",
       "      <th>Price</th>\n",
       "    </tr>\n",
       "    <tr>\n",
       "      <th>Id</th>\n",
       "      <th></th>\n",
       "      <th></th>\n",
       "      <th></th>\n",
       "      <th></th>\n",
       "      <th></th>\n",
       "      <th></th>\n",
       "      <th></th>\n",
       "      <th></th>\n",
       "      <th></th>\n",
       "      <th></th>\n",
       "      <th></th>\n",
       "      <th></th>\n",
       "      <th></th>\n",
       "      <th></th>\n",
       "      <th></th>\n",
       "      <th></th>\n",
       "      <th></th>\n",
       "      <th></th>\n",
       "      <th></th>\n",
       "    </tr>\n",
       "  </thead>\n",
       "  <tbody>\n",
       "    <tr>\n",
       "      <th>14038</th>\n",
       "      <td>35</td>\n",
       "      <td>2.0</td>\n",
       "      <td>47.981561</td>\n",
       "      <td>29.442751</td>\n",
       "      <td>6.0</td>\n",
       "      <td>7</td>\n",
       "      <td>9.0</td>\n",
       "      <td>1969</td>\n",
       "      <td>0.089040</td>\n",
       "      <td>B</td>\n",
       "      <td>B</td>\n",
       "      <td>33</td>\n",
       "      <td>7976</td>\n",
       "      <td>5</td>\n",
       "      <td>NaN</td>\n",
       "      <td>0</td>\n",
       "      <td>11</td>\n",
       "      <td>B</td>\n",
       "      <td>184966.930730</td>\n",
       "    </tr>\n",
       "    <tr>\n",
       "      <th>15053</th>\n",
       "      <td>41</td>\n",
       "      <td>3.0</td>\n",
       "      <td>65.683640</td>\n",
       "      <td>40.049543</td>\n",
       "      <td>8.0</td>\n",
       "      <td>7</td>\n",
       "      <td>9.0</td>\n",
       "      <td>1978</td>\n",
       "      <td>0.000070</td>\n",
       "      <td>B</td>\n",
       "      <td>B</td>\n",
       "      <td>46</td>\n",
       "      <td>10309</td>\n",
       "      <td>1</td>\n",
       "      <td>240.0</td>\n",
       "      <td>1</td>\n",
       "      <td>16</td>\n",
       "      <td>B</td>\n",
       "      <td>300009.450063</td>\n",
       "    </tr>\n",
       "    <tr>\n",
       "      <th>4765</th>\n",
       "      <td>53</td>\n",
       "      <td>2.0</td>\n",
       "      <td>44.947953</td>\n",
       "      <td>29.197612</td>\n",
       "      <td>0.0</td>\n",
       "      <td>8</td>\n",
       "      <td>12.0</td>\n",
       "      <td>1968</td>\n",
       "      <td>0.049637</td>\n",
       "      <td>B</td>\n",
       "      <td>B</td>\n",
       "      <td>34</td>\n",
       "      <td>7759</td>\n",
       "      <td>0</td>\n",
       "      <td>229.0</td>\n",
       "      <td>1</td>\n",
       "      <td>3</td>\n",
       "      <td>B</td>\n",
       "      <td>220925.908524</td>\n",
       "    </tr>\n",
       "    <tr>\n",
       "      <th>5809</th>\n",
       "      <td>58</td>\n",
       "      <td>2.0</td>\n",
       "      <td>53.352981</td>\n",
       "      <td>52.731512</td>\n",
       "      <td>9.0</td>\n",
       "      <td>8</td>\n",
       "      <td>17.0</td>\n",
       "      <td>1977</td>\n",
       "      <td>0.437885</td>\n",
       "      <td>B</td>\n",
       "      <td>B</td>\n",
       "      <td>23</td>\n",
       "      <td>5735</td>\n",
       "      <td>3</td>\n",
       "      <td>1084.0</td>\n",
       "      <td>0</td>\n",
       "      <td>5</td>\n",
       "      <td>B</td>\n",
       "      <td>175616.227217</td>\n",
       "    </tr>\n",
       "    <tr>\n",
       "      <th>10783</th>\n",
       "      <td>99</td>\n",
       "      <td>1.0</td>\n",
       "      <td>39.649192</td>\n",
       "      <td>23.776169</td>\n",
       "      <td>7.0</td>\n",
       "      <td>11</td>\n",
       "      <td>12.0</td>\n",
       "      <td>1976</td>\n",
       "      <td>0.012339</td>\n",
       "      <td>B</td>\n",
       "      <td>B</td>\n",
       "      <td>35</td>\n",
       "      <td>5776</td>\n",
       "      <td>1</td>\n",
       "      <td>2078.0</td>\n",
       "      <td>2</td>\n",
       "      <td>4</td>\n",
       "      <td>B</td>\n",
       "      <td>150226.531644</td>\n",
       "    </tr>\n",
       "  </tbody>\n",
       "</table>\n",
       "</div>"
      ],
      "text/plain": [
       "       DistrictId  Rooms     Square  LifeSquare  KitchenSquare  Floor  \\\n",
       "Id                                                                      \n",
       "14038          35    2.0  47.981561   29.442751            6.0      7   \n",
       "15053          41    3.0  65.683640   40.049543            8.0      7   \n",
       "4765           53    2.0  44.947953   29.197612            0.0      8   \n",
       "5809           58    2.0  53.352981   52.731512            9.0      8   \n",
       "10783          99    1.0  39.649192   23.776169            7.0     11   \n",
       "\n",
       "       HouseFloor  HouseYear  Ecology_1 Ecology_2 Ecology_3  Social_1  \\\n",
       "Id                                                                      \n",
       "14038         9.0       1969   0.089040         B         B        33   \n",
       "15053         9.0       1978   0.000070         B         B        46   \n",
       "4765         12.0       1968   0.049637         B         B        34   \n",
       "5809         17.0       1977   0.437885         B         B        23   \n",
       "10783        12.0       1976   0.012339         B         B        35   \n",
       "\n",
       "       Social_2  Social_3  Healthcare_1  Helthcare_2  Shops_1 Shops_2  \\\n",
       "Id                                                                      \n",
       "14038      7976         5           NaN            0       11       B   \n",
       "15053     10309         1         240.0            1       16       B   \n",
       "4765       7759         0         229.0            1        3       B   \n",
       "5809       5735         3        1084.0            0        5       B   \n",
       "10783      5776         1        2078.0            2        4       B   \n",
       "\n",
       "               Price  \n",
       "Id                    \n",
       "14038  184966.930730  \n",
       "15053  300009.450063  \n",
       "4765   220925.908524  \n",
       "5809   175616.227217  \n",
       "10783  150226.531644  "
      ]
     },
     "execution_count": 6,
     "metadata": {},
     "output_type": "execute_result"
    }
   ],
   "source": [
    "train_df = pd.read_csv(TRAIN_DATASET_PATH, index_col='Id')\n",
    "train_df.head()"
   ]
  },
  {
   "cell_type": "code",
   "execution_count": 7,
   "id": "d9ad8ce4-4774-408e-9420-4118386c77d4",
   "metadata": {},
   "outputs": [
    {
     "data": {
      "text/html": [
       "<div>\n",
       "<style scoped>\n",
       "    .dataframe tbody tr th:only-of-type {\n",
       "        vertical-align: middle;\n",
       "    }\n",
       "\n",
       "    .dataframe tbody tr th {\n",
       "        vertical-align: top;\n",
       "    }\n",
       "\n",
       "    .dataframe thead th {\n",
       "        text-align: right;\n",
       "    }\n",
       "</style>\n",
       "<table border=\"1\" class=\"dataframe\">\n",
       "  <thead>\n",
       "    <tr style=\"text-align: right;\">\n",
       "      <th></th>\n",
       "      <th>DistrictId</th>\n",
       "      <th>Rooms</th>\n",
       "      <th>Square</th>\n",
       "      <th>LifeSquare</th>\n",
       "      <th>KitchenSquare</th>\n",
       "      <th>Floor</th>\n",
       "      <th>HouseFloor</th>\n",
       "      <th>HouseYear</th>\n",
       "      <th>Ecology_1</th>\n",
       "      <th>Ecology_2</th>\n",
       "      <th>Ecology_3</th>\n",
       "      <th>Social_1</th>\n",
       "      <th>Social_2</th>\n",
       "      <th>Social_3</th>\n",
       "      <th>Healthcare_1</th>\n",
       "      <th>Helthcare_2</th>\n",
       "      <th>Shops_1</th>\n",
       "      <th>Shops_2</th>\n",
       "    </tr>\n",
       "    <tr>\n",
       "      <th>Id</th>\n",
       "      <th></th>\n",
       "      <th></th>\n",
       "      <th></th>\n",
       "      <th></th>\n",
       "      <th></th>\n",
       "      <th></th>\n",
       "      <th></th>\n",
       "      <th></th>\n",
       "      <th></th>\n",
       "      <th></th>\n",
       "      <th></th>\n",
       "      <th></th>\n",
       "      <th></th>\n",
       "      <th></th>\n",
       "      <th></th>\n",
       "      <th></th>\n",
       "      <th></th>\n",
       "      <th></th>\n",
       "    </tr>\n",
       "  </thead>\n",
       "  <tbody>\n",
       "    <tr>\n",
       "      <th>725</th>\n",
       "      <td>58</td>\n",
       "      <td>2.0</td>\n",
       "      <td>49.882643</td>\n",
       "      <td>33.432782</td>\n",
       "      <td>6.0</td>\n",
       "      <td>6</td>\n",
       "      <td>14.0</td>\n",
       "      <td>1972</td>\n",
       "      <td>0.310199</td>\n",
       "      <td>B</td>\n",
       "      <td>B</td>\n",
       "      <td>11</td>\n",
       "      <td>2748</td>\n",
       "      <td>1</td>\n",
       "      <td>NaN</td>\n",
       "      <td>0</td>\n",
       "      <td>0</td>\n",
       "      <td>B</td>\n",
       "    </tr>\n",
       "    <tr>\n",
       "      <th>15856</th>\n",
       "      <td>74</td>\n",
       "      <td>2.0</td>\n",
       "      <td>69.263183</td>\n",
       "      <td>NaN</td>\n",
       "      <td>1.0</td>\n",
       "      <td>6</td>\n",
       "      <td>1.0</td>\n",
       "      <td>1977</td>\n",
       "      <td>0.075779</td>\n",
       "      <td>B</td>\n",
       "      <td>B</td>\n",
       "      <td>6</td>\n",
       "      <td>1437</td>\n",
       "      <td>3</td>\n",
       "      <td>NaN</td>\n",
       "      <td>0</td>\n",
       "      <td>2</td>\n",
       "      <td>B</td>\n",
       "    </tr>\n",
       "    <tr>\n",
       "      <th>5480</th>\n",
       "      <td>190</td>\n",
       "      <td>1.0</td>\n",
       "      <td>13.597819</td>\n",
       "      <td>15.948246</td>\n",
       "      <td>12.0</td>\n",
       "      <td>2</td>\n",
       "      <td>5.0</td>\n",
       "      <td>1909</td>\n",
       "      <td>0.000000</td>\n",
       "      <td>B</td>\n",
       "      <td>B</td>\n",
       "      <td>30</td>\n",
       "      <td>7538</td>\n",
       "      <td>87</td>\n",
       "      <td>4702.0</td>\n",
       "      <td>5</td>\n",
       "      <td>5</td>\n",
       "      <td>B</td>\n",
       "    </tr>\n",
       "    <tr>\n",
       "      <th>15664</th>\n",
       "      <td>47</td>\n",
       "      <td>2.0</td>\n",
       "      <td>73.046609</td>\n",
       "      <td>51.940842</td>\n",
       "      <td>9.0</td>\n",
       "      <td>22</td>\n",
       "      <td>22.0</td>\n",
       "      <td>2007</td>\n",
       "      <td>0.101872</td>\n",
       "      <td>B</td>\n",
       "      <td>B</td>\n",
       "      <td>23</td>\n",
       "      <td>4583</td>\n",
       "      <td>3</td>\n",
       "      <td>NaN</td>\n",
       "      <td>3</td>\n",
       "      <td>3</td>\n",
       "      <td>B</td>\n",
       "    </tr>\n",
       "    <tr>\n",
       "      <th>14275</th>\n",
       "      <td>27</td>\n",
       "      <td>1.0</td>\n",
       "      <td>47.527111</td>\n",
       "      <td>43.387569</td>\n",
       "      <td>1.0</td>\n",
       "      <td>17</td>\n",
       "      <td>17.0</td>\n",
       "      <td>2017</td>\n",
       "      <td>0.072158</td>\n",
       "      <td>B</td>\n",
       "      <td>B</td>\n",
       "      <td>2</td>\n",
       "      <td>629</td>\n",
       "      <td>1</td>\n",
       "      <td>NaN</td>\n",
       "      <td>0</td>\n",
       "      <td>0</td>\n",
       "      <td>A</td>\n",
       "    </tr>\n",
       "  </tbody>\n",
       "</table>\n",
       "</div>"
      ],
      "text/plain": [
       "       DistrictId  Rooms     Square  LifeSquare  KitchenSquare  Floor  \\\n",
       "Id                                                                      \n",
       "725            58    2.0  49.882643   33.432782            6.0      6   \n",
       "15856          74    2.0  69.263183         NaN            1.0      6   \n",
       "5480          190    1.0  13.597819   15.948246           12.0      2   \n",
       "15664          47    2.0  73.046609   51.940842            9.0     22   \n",
       "14275          27    1.0  47.527111   43.387569            1.0     17   \n",
       "\n",
       "       HouseFloor  HouseYear  Ecology_1 Ecology_2 Ecology_3  Social_1  \\\n",
       "Id                                                                      \n",
       "725          14.0       1972   0.310199         B         B        11   \n",
       "15856         1.0       1977   0.075779         B         B         6   \n",
       "5480          5.0       1909   0.000000         B         B        30   \n",
       "15664        22.0       2007   0.101872         B         B        23   \n",
       "14275        17.0       2017   0.072158         B         B         2   \n",
       "\n",
       "       Social_2  Social_3  Healthcare_1  Helthcare_2  Shops_1 Shops_2  \n",
       "Id                                                                     \n",
       "725        2748         1           NaN            0        0       B  \n",
       "15856      1437         3           NaN            0        2       B  \n",
       "5480       7538        87        4702.0            5        5       B  \n",
       "15664      4583         3           NaN            3        3       B  \n",
       "14275       629         1           NaN            0        0       A  "
      ]
     },
     "execution_count": 7,
     "metadata": {},
     "output_type": "execute_result"
    }
   ],
   "source": [
    "test_df = pd.read_csv(TEST_DATASET_PATH, index_col='Id')\n",
    "test_df.head()"
   ]
  },
  {
   "cell_type": "code",
   "execution_count": 8,
   "id": "9fadc1b0-c09a-47b5-b054-a7382340bec9",
   "metadata": {},
   "outputs": [
    {
     "data": {
      "text/plain": [
       "((10000, 19), (5000, 18))"
      ]
     },
     "execution_count": 8,
     "metadata": {},
     "output_type": "execute_result"
    }
   ],
   "source": [
    "train_df.shape, test_df.shape"
   ]
  },
  {
   "cell_type": "markdown",
   "id": "4526449f-cc66-45b9-a668-e0364a66e023",
   "metadata": {},
   "source": [
    "# __Подготовка данных__"
   ]
  },
  {
   "cell_type": "code",
   "execution_count": 9,
   "id": "6311b6c3-0771-4a52-ad03-f03f33ce1c4d",
   "metadata": {},
   "outputs": [
    {
     "name": "stdout",
     "output_type": "stream",
     "text": [
      "<class 'pandas.core.frame.DataFrame'>\n",
      "Int64Index: 10000 entries, 14038 to 6306\n",
      "Data columns (total 19 columns):\n",
      " #   Column         Non-Null Count  Dtype  \n",
      "---  ------         --------------  -----  \n",
      " 0   DistrictId     10000 non-null  int64  \n",
      " 1   Rooms          10000 non-null  float64\n",
      " 2   Square         10000 non-null  float64\n",
      " 3   LifeSquare     7887 non-null   float64\n",
      " 4   KitchenSquare  10000 non-null  float64\n",
      " 5   Floor          10000 non-null  int64  \n",
      " 6   HouseFloor     10000 non-null  float64\n",
      " 7   HouseYear      10000 non-null  int64  \n",
      " 8   Ecology_1      10000 non-null  float64\n",
      " 9   Ecology_2      10000 non-null  object \n",
      " 10  Ecology_3      10000 non-null  object \n",
      " 11  Social_1       10000 non-null  int64  \n",
      " 12  Social_2       10000 non-null  int64  \n",
      " 13  Social_3       10000 non-null  int64  \n",
      " 14  Healthcare_1   5202 non-null   float64\n",
      " 15  Helthcare_2    10000 non-null  int64  \n",
      " 16  Shops_1        10000 non-null  int64  \n",
      " 17  Shops_2        10000 non-null  object \n",
      " 18  Price          10000 non-null  float64\n",
      "dtypes: float64(8), int64(8), object(3)\n",
      "memory usage: 1.5+ MB\n"
     ]
    }
   ],
   "source": [
    "train_df.info()"
   ]
  },
  {
   "cell_type": "markdown",
   "id": "71f0173c-fa68-4f52-8d6c-9ef0e3b5bcd9",
   "metadata": {},
   "source": [
    "__Видно, что есть пропуски у признаков LifeSquare и Healthcare_1, которые нужно обработать. Признаки Id и DistrictId переделать в строковый тип.__"
   ]
  },
  {
   "cell_type": "code",
   "execution_count": 10,
   "id": "5cc24272-fe28-4e1b-9aa2-a4c98386e23b",
   "metadata": {},
   "outputs": [
    {
     "data": {
      "text/plain": [
       "27     851\n",
       "1      652\n",
       "23     565\n",
       "6      511\n",
       "9      294\n",
       "      ... \n",
       "207      1\n",
       "117      1\n",
       "174      1\n",
       "205      1\n",
       "209      1\n",
       "Name: DistrictId, Length: 205, dtype: int64"
      ]
     },
     "execution_count": 10,
     "metadata": {},
     "output_type": "execute_result"
    }
   ],
   "source": [
    "train_df['DistrictId'].value_counts() # Проверил и убедился, что признак категориальный."
   ]
  },
  {
   "cell_type": "code",
   "execution_count": 11,
   "id": "01d643b1-925f-4b15-ab41-a2f8f267a599",
   "metadata": {},
   "outputs": [
    {
     "data": {
      "image/png": "[encoded data removed]",
      "text/plain": [
       "<Figure size 1152x576 with 1 Axes>"
      ]
     },
     "metadata": {
      "needs_background": "light"
     },
     "output_type": "display_data"
    }
   ],
   "source": [
    "# Распределение целевой переменной Price\n",
    "plt.figure(figsize = (16, 8))\n",
    "\n",
    "train_df['Price'].hist(bins=30)\n",
    "plt.ylabel('Count')\n",
    "plt.xlabel('Price')\n",
    "\n",
    "plt.title('Target distribution')\n",
    "plt.show()"
   ]
  },
  {
   "cell_type": "markdown",
   "id": "082b6077-7081-4b48-b890-46f8b9ed6e70",
   "metadata": {},
   "source": [
    "Плавное распределение, выбросов сильных нет"
   ]
  },
  {
   "cell_type": "code",
   "execution_count": 12,
   "id": "f1043b26-1ae3-44da-bc50-c77053b49a6b",
   "metadata": {},
   "outputs": [
    {
     "data": {
      "text/html": [
       "<div>\n",
       "<style scoped>\n",
       "    .dataframe tbody tr th:only-of-type {\n",
       "        vertical-align: middle;\n",
       "    }\n",
       "\n",
       "    .dataframe tbody tr th {\n",
       "        vertical-align: top;\n",
       "    }\n",
       "\n",
       "    .dataframe thead th {\n",
       "        text-align: right;\n",
       "    }\n",
       "</style>\n",
       "<table border=\"1\" class=\"dataframe\">\n",
       "  <thead>\n",
       "    <tr style=\"text-align: right;\">\n",
       "      <th></th>\n",
       "      <th>DistrictId</th>\n",
       "      <th>Rooms</th>\n",
       "      <th>Square</th>\n",
       "      <th>LifeSquare</th>\n",
       "      <th>KitchenSquare</th>\n",
       "      <th>Floor</th>\n",
       "      <th>HouseFloor</th>\n",
       "      <th>HouseYear</th>\n",
       "      <th>Ecology_1</th>\n",
       "      <th>Ecology_2</th>\n",
       "      <th>Ecology_3</th>\n",
       "      <th>Social_1</th>\n",
       "      <th>Social_2</th>\n",
       "      <th>Social_3</th>\n",
       "      <th>Healthcare_1</th>\n",
       "      <th>Helthcare_2</th>\n",
       "      <th>Shops_1</th>\n",
       "      <th>Shops_2</th>\n",
       "      <th>Price</th>\n",
       "    </tr>\n",
       "  </thead>\n",
       "  <tbody>\n",
       "    <tr>\n",
       "      <th>count</th>\n",
       "      <td>10000.000000</td>\n",
       "      <td>10000.000000</td>\n",
       "      <td>10000.000000</td>\n",
       "      <td>7887.000000</td>\n",
       "      <td>10000.000000</td>\n",
       "      <td>10000.000000</td>\n",
       "      <td>10000.000000</td>\n",
       "      <td>1.000000e+04</td>\n",
       "      <td>10000.000000</td>\n",
       "      <td>10000</td>\n",
       "      <td>10000</td>\n",
       "      <td>10000.000000</td>\n",
       "      <td>10000.000000</td>\n",
       "      <td>10000.000000</td>\n",
       "      <td>5202.000000</td>\n",
       "      <td>10000.000000</td>\n",
       "      <td>10000.000000</td>\n",
       "      <td>10000</td>\n",
       "      <td>10000.000000</td>\n",
       "    </tr>\n",
       "    <tr>\n",
       "      <th>unique</th>\n",
       "      <td>NaN</td>\n",
       "      <td>NaN</td>\n",
       "      <td>NaN</td>\n",
       "      <td>NaN</td>\n",
       "      <td>NaN</td>\n",
       "      <td>NaN</td>\n",
       "      <td>NaN</td>\n",
       "      <td>NaN</td>\n",
       "      <td>NaN</td>\n",
       "      <td>2</td>\n",
       "      <td>2</td>\n",
       "      <td>NaN</td>\n",
       "      <td>NaN</td>\n",
       "      <td>NaN</td>\n",
       "      <td>NaN</td>\n",
       "      <td>NaN</td>\n",
       "      <td>NaN</td>\n",
       "      <td>2</td>\n",
       "      <td>NaN</td>\n",
       "    </tr>\n",
       "    <tr>\n",
       "      <th>top</th>\n",
       "      <td>NaN</td>\n",
       "      <td>NaN</td>\n",
       "      <td>NaN</td>\n",
       "      <td>NaN</td>\n",
       "      <td>NaN</td>\n",
       "      <td>NaN</td>\n",
       "      <td>NaN</td>\n",
       "      <td>NaN</td>\n",
       "      <td>NaN</td>\n",
       "      <td>B</td>\n",
       "      <td>B</td>\n",
       "      <td>NaN</td>\n",
       "      <td>NaN</td>\n",
       "      <td>NaN</td>\n",
       "      <td>NaN</td>\n",
       "      <td>NaN</td>\n",
       "      <td>NaN</td>\n",
       "      <td>B</td>\n",
       "      <td>NaN</td>\n",
       "    </tr>\n",
       "    <tr>\n",
       "      <th>freq</th>\n",
       "      <td>NaN</td>\n",
       "      <td>NaN</td>\n",
       "      <td>NaN</td>\n",
       "      <td>NaN</td>\n",
       "      <td>NaN</td>\n",
       "      <td>NaN</td>\n",
       "      <td>NaN</td>\n",
       "      <td>NaN</td>\n",
       "      <td>NaN</td>\n",
       "      <td>9903</td>\n",
       "      <td>9725</td>\n",
       "      <td>NaN</td>\n",
       "      <td>NaN</td>\n",
       "      <td>NaN</td>\n",
       "      <td>NaN</td>\n",
       "      <td>NaN</td>\n",
       "      <td>NaN</td>\n",
       "      <td>9175</td>\n",
       "      <td>NaN</td>\n",
       "    </tr>\n",
       "    <tr>\n",
       "      <th>mean</th>\n",
       "      <td>50.400800</td>\n",
       "      <td>1.890500</td>\n",
       "      <td>56.315775</td>\n",
       "      <td>37.199645</td>\n",
       "      <td>6.273300</td>\n",
       "      <td>8.526700</td>\n",
       "      <td>12.609400</td>\n",
       "      <td>3.990166e+03</td>\n",
       "      <td>0.118858</td>\n",
       "      <td>NaN</td>\n",
       "      <td>NaN</td>\n",
       "      <td>24.687000</td>\n",
       "      <td>5352.157400</td>\n",
       "      <td>8.039200</td>\n",
       "      <td>1142.904460</td>\n",
       "      <td>1.319500</td>\n",
       "      <td>4.231300</td>\n",
       "      <td>NaN</td>\n",
       "      <td>214138.857399</td>\n",
       "    </tr>\n",
       "    <tr>\n",
       "      <th>std</th>\n",
       "      <td>43.587592</td>\n",
       "      <td>0.839512</td>\n",
       "      <td>21.058732</td>\n",
       "      <td>86.241209</td>\n",
       "      <td>28.560917</td>\n",
       "      <td>5.241148</td>\n",
       "      <td>6.775974</td>\n",
       "      <td>2.005003e+05</td>\n",
       "      <td>0.119025</td>\n",
       "      <td>NaN</td>\n",
       "      <td>NaN</td>\n",
       "      <td>17.532614</td>\n",
       "      <td>4006.799803</td>\n",
       "      <td>23.831875</td>\n",
       "      <td>1021.517264</td>\n",
       "      <td>1.493601</td>\n",
       "      <td>4.806341</td>\n",
       "      <td>NaN</td>\n",
       "      <td>92872.293865</td>\n",
       "    </tr>\n",
       "    <tr>\n",
       "      <th>min</th>\n",
       "      <td>0.000000</td>\n",
       "      <td>0.000000</td>\n",
       "      <td>1.136859</td>\n",
       "      <td>0.370619</td>\n",
       "      <td>0.000000</td>\n",
       "      <td>1.000000</td>\n",
       "      <td>0.000000</td>\n",
       "      <td>1.910000e+03</td>\n",
       "      <td>0.000000</td>\n",
       "      <td>NaN</td>\n",
       "      <td>NaN</td>\n",
       "      <td>0.000000</td>\n",
       "      <td>168.000000</td>\n",
       "      <td>0.000000</td>\n",
       "      <td>0.000000</td>\n",
       "      <td>0.000000</td>\n",
       "      <td>0.000000</td>\n",
       "      <td>NaN</td>\n",
       "      <td>59174.778028</td>\n",
       "    </tr>\n",
       "    <tr>\n",
       "      <th>25%</th>\n",
       "      <td>20.000000</td>\n",
       "      <td>1.000000</td>\n",
       "      <td>41.774881</td>\n",
       "      <td>22.769832</td>\n",
       "      <td>1.000000</td>\n",
       "      <td>4.000000</td>\n",
       "      <td>9.000000</td>\n",
       "      <td>1.974000e+03</td>\n",
       "      <td>0.017647</td>\n",
       "      <td>NaN</td>\n",
       "      <td>NaN</td>\n",
       "      <td>6.000000</td>\n",
       "      <td>1564.000000</td>\n",
       "      <td>0.000000</td>\n",
       "      <td>350.000000</td>\n",
       "      <td>0.000000</td>\n",
       "      <td>1.000000</td>\n",
       "      <td>NaN</td>\n",
       "      <td>153872.633942</td>\n",
       "    </tr>\n",
       "    <tr>\n",
       "      <th>50%</th>\n",
       "      <td>36.000000</td>\n",
       "      <td>2.000000</td>\n",
       "      <td>52.513310</td>\n",
       "      <td>32.781260</td>\n",
       "      <td>6.000000</td>\n",
       "      <td>7.000000</td>\n",
       "      <td>13.000000</td>\n",
       "      <td>1.977000e+03</td>\n",
       "      <td>0.075424</td>\n",
       "      <td>NaN</td>\n",
       "      <td>NaN</td>\n",
       "      <td>25.000000</td>\n",
       "      <td>5285.000000</td>\n",
       "      <td>2.000000</td>\n",
       "      <td>900.000000</td>\n",
       "      <td>1.000000</td>\n",
       "      <td>3.000000</td>\n",
       "      <td>NaN</td>\n",
       "      <td>192269.644879</td>\n",
       "    </tr>\n",
       "    <tr>\n",
       "      <th>75%</th>\n",
       "      <td>75.000000</td>\n",
       "      <td>2.000000</td>\n",
       "      <td>65.900625</td>\n",
       "      <td>45.128803</td>\n",
       "      <td>9.000000</td>\n",
       "      <td>12.000000</td>\n",
       "      <td>17.000000</td>\n",
       "      <td>2.001000e+03</td>\n",
       "      <td>0.195781</td>\n",
       "      <td>NaN</td>\n",
       "      <td>NaN</td>\n",
       "      <td>36.000000</td>\n",
       "      <td>7227.000000</td>\n",
       "      <td>5.000000</td>\n",
       "      <td>1548.000000</td>\n",
       "      <td>2.000000</td>\n",
       "      <td>6.000000</td>\n",
       "      <td>NaN</td>\n",
       "      <td>249135.462171</td>\n",
       "    </tr>\n",
       "    <tr>\n",
       "      <th>max</th>\n",
       "      <td>209.000000</td>\n",
       "      <td>19.000000</td>\n",
       "      <td>641.065193</td>\n",
       "      <td>7480.592129</td>\n",
       "      <td>2014.000000</td>\n",
       "      <td>42.000000</td>\n",
       "      <td>117.000000</td>\n",
       "      <td>2.005201e+07</td>\n",
       "      <td>0.521867</td>\n",
       "      <td>NaN</td>\n",
       "      <td>NaN</td>\n",
       "      <td>74.000000</td>\n",
       "      <td>19083.000000</td>\n",
       "      <td>141.000000</td>\n",
       "      <td>4849.000000</td>\n",
       "      <td>6.000000</td>\n",
       "      <td>23.000000</td>\n",
       "      <td>NaN</td>\n",
       "      <td>633233.466570</td>\n",
       "    </tr>\n",
       "  </tbody>\n",
       "</table>\n",
       "</div>"
      ],
      "text/plain": [
       "          DistrictId         Rooms        Square   LifeSquare  KitchenSquare  \\\n",
       "count   10000.000000  10000.000000  10000.000000  7887.000000   10000.000000   \n",
       "unique           NaN           NaN           NaN          NaN            NaN   \n",
       "top              NaN           NaN           NaN          NaN            NaN   \n",
       "freq             NaN           NaN           NaN          NaN            NaN   \n",
       "mean       50.400800      1.890500     56.315775    37.199645       6.273300   \n",
       "std        43.587592      0.839512     21.058732    86.241209      28.560917   \n",
       "min         0.000000      0.000000      1.136859     0.370619       0.000000   \n",
       "25%        20.000000      1.000000     41.774881    22.769832       1.000000   \n",
       "50%        36.000000      2.000000     52.513310    32.781260       6.000000   \n",
       "75%        75.000000      2.000000     65.900625    45.128803       9.000000   \n",
       "max       209.000000     19.000000    641.065193  7480.592129    2014.000000   \n",
       "\n",
       "               Floor    HouseFloor     HouseYear     Ecology_1 Ecology_2  \\\n",
       "count   10000.000000  10000.000000  1.000000e+04  10000.000000     10000   \n",
       "unique           NaN           NaN           NaN           NaN         2   \n",
       "top              NaN           NaN           NaN           NaN         B   \n",
       "freq             NaN           NaN           NaN           NaN      9903   \n",
       "mean        8.526700     12.609400  3.990166e+03      0.118858       NaN   \n",
       "std         5.241148      6.775974  2.005003e+05      0.119025       NaN   \n",
       "min         1.000000      0.000000  1.910000e+03      0.000000       NaN   \n",
       "25%         4.000000      9.000000  1.974000e+03      0.017647       NaN   \n",
       "50%         7.000000     13.000000  1.977000e+03      0.075424       NaN   \n",
       "75%        12.000000     17.000000  2.001000e+03      0.195781       NaN   \n",
       "max        42.000000    117.000000  2.005201e+07      0.521867       NaN   \n",
       "\n",
       "       Ecology_3      Social_1      Social_2      Social_3  Healthcare_1  \\\n",
       "count      10000  10000.000000  10000.000000  10000.000000   5202.000000   \n",
       "unique         2           NaN           NaN           NaN           NaN   \n",
       "top            B           NaN           NaN           NaN           NaN   \n",
       "freq        9725           NaN           NaN           NaN           NaN   \n",
       "mean         NaN     24.687000   5352.157400      8.039200   1142.904460   \n",
       "std          NaN     17.532614   4006.799803     23.831875   1021.517264   \n",
       "min          NaN      0.000000    168.000000      0.000000      0.000000   \n",
       "25%          NaN      6.000000   1564.000000      0.000000    350.000000   \n",
       "50%          NaN     25.000000   5285.000000      2.000000    900.000000   \n",
       "75%          NaN     36.000000   7227.000000      5.000000   1548.000000   \n",
       "max          NaN     74.000000  19083.000000    141.000000   4849.000000   \n",
       "\n",
       "         Helthcare_2       Shops_1 Shops_2          Price  \n",
       "count   10000.000000  10000.000000   10000   10000.000000  \n",
       "unique           NaN           NaN       2            NaN  \n",
       "top              NaN           NaN       B            NaN  \n",
       "freq             NaN           NaN    9175            NaN  \n",
       "mean        1.319500      4.231300     NaN  214138.857399  \n",
       "std         1.493601      4.806341     NaN   92872.293865  \n",
       "min         0.000000      0.000000     NaN   59174.778028  \n",
       "25%         0.000000      1.000000     NaN  153872.633942  \n",
       "50%         1.000000      3.000000     NaN  192269.644879  \n",
       "75%         2.000000      6.000000     NaN  249135.462171  \n",
       "max         6.000000     23.000000     NaN  633233.466570  "
      ]
     },
     "execution_count": 12,
     "metadata": {},
     "output_type": "execute_result"
    }
   ],
   "source": [
    "train_df.describe(include = \"all\")"
   ]
  },
  {
   "cell_type": "markdown",
   "id": "4c7c5bae-87f8-4fff-bbef-8a74ea23ebbe",
   "metadata": {},
   "source": [
    "__Из анализа выше видно, что в признаках есть не соответствие:<br> \n",
    "Rooms - есть выброс;<br> \n",
    "HouseFloor - минимальное значение в них не должны быть 0;<br> \n",
    "LifeSquare > Square - не соответствует действительности;<br> \n",
    "HouseYear - имеется слишком большое значение.__<br> "
   ]
  },
  {
   "cell_type": "markdown",
   "id": "bfbc7f0a-5c43-4e22-a0b0-cd7daa178a12",
   "metadata": {},
   "source": [
    "### __Матрица коррелиций__"
   ]
  },
  {
   "cell_type": "code",
   "execution_count": 13,
   "id": "a188b2c0-c2be-4ea1-a48a-8aec77f2045b",
   "metadata": {},
   "outputs": [
    {
     "data": {
      "image/png": "[encoded data removed]",
      "text/plain": [
       "<Figure size 1080x720 with 2 Axes>"
      ]
     },
     "metadata": {
      "needs_background": "light"
     },
     "output_type": "display_data"
    }
   ],
   "source": [
    "plt.figure(figsize = (15,10))\n",
    "\n",
    "sns.set(font_scale=1.4)\n",
    "\n",
    "corr_matrix = train_df.corr()\n",
    "corr_matrix = np.round(corr_matrix, 2)\n",
    "corr_matrix[np.abs(corr_matrix) < 0.19] = 0\n",
    "\n",
    "sns.heatmap(corr_matrix, annot=True, linewidths=.5, cmap='coolwarm')\n",
    "\n",
    "plt.title('Корреляционная матрица')\n",
    "plt.show()"
   ]
  },
  {
   "cell_type": "markdown",
   "id": "8eacc325-4c1e-4724-811d-0035eb99d13d",
   "metadata": {},
   "source": [
    "__Имеется сильная корреляция между количеством комнат с стоимостью и общей площадью, этаж и этажность дома, Helthcare_2 и Shops_1.__"
   ]
  },
  {
   "cell_type": "code",
   "execution_count": 14,
   "id": "705aeef3-42f9-49eb-8749-5d26b9ecbc9b",
   "metadata": {},
   "outputs": [],
   "source": [
    "# Привел данные в строковый тип\n",
    "train_df['DistrictId'] = train_df['DistrictId'].astype(str) \n",
    "test_df['DistrictId'] = test_df['DistrictId'].astype(str)"
   ]
  },
  {
   "cell_type": "code",
   "execution_count": 15,
   "id": "791692f8-84ee-4457-8faf-be53426d173b",
   "metadata": {},
   "outputs": [
    {
     "data": {
      "text/plain": [
       "B    9903\n",
       "A      97\n",
       "Name: Ecology_2, dtype: int64"
      ]
     },
     "execution_count": 15,
     "metadata": {},
     "output_type": "execute_result"
    }
   ],
   "source": [
    "train_df['Ecology_2'].value_counts() # Категориальный признак. "
   ]
  },
  {
   "cell_type": "code",
   "execution_count": 16,
   "id": "7523a110-0e43-41a1-817f-b81c91b9379d",
   "metadata": {},
   "outputs": [
    {
     "data": {
      "text/plain": [
       "B    9725\n",
       "A     275\n",
       "Name: Ecology_3, dtype: int64"
      ]
     },
     "execution_count": 16,
     "metadata": {},
     "output_type": "execute_result"
    }
   ],
   "source": [
    "train_df['Ecology_3'].value_counts() # Категориальный признак. "
   ]
  },
  {
   "cell_type": "code",
   "execution_count": 17,
   "id": "620b6cc9-3380-431c-9359-f853654a9902",
   "metadata": {},
   "outputs": [
    {
     "data": {
      "text/plain": [
       "B    9175\n",
       "A     825\n",
       "Name: Shops_2, dtype: int64"
      ]
     },
     "execution_count": 17,
     "metadata": {},
     "output_type": "execute_result"
    }
   ],
   "source": [
    "train_df['Shops_2'].value_counts() # Категориальный признак. "
   ]
  },
  {
   "cell_type": "code",
   "execution_count": 18,
   "id": "74abf29f-0d30-4acf-b938-31cf752eb530",
   "metadata": {},
   "outputs": [],
   "source": [
    "# Перевел категориальные объекты в числовые.\n",
    "train_df[['Ecology_2', 'Ecology_3', 'Shops_2']] = train_df[['Ecology_2', 'Ecology_3', 'Shops_2']].replace({'A':0, 'B':1})\n",
    "test_df[['Ecology_2', 'Ecology_3', 'Shops_2']] = test_df[['Ecology_2', 'Ecology_3', 'Shops_2']].replace({'A':0, 'B':1})"
   ]
  },
  {
   "cell_type": "markdown",
   "id": "09ba7771-ea64-411b-a425-1bebe68ed451",
   "metadata": {},
   "source": [
    "## __Заполнение недостающих данных__"
   ]
  },
  {
   "cell_type": "code",
   "execution_count": 19,
   "id": "da1ccff5-8cef-49b8-a1c4-54de38e5896d",
   "metadata": {},
   "outputs": [
    {
     "data": {
      "text/plain": [
       "LifeSquare      2113\n",
       "Healthcare_1    4798\n",
       "dtype: int64"
      ]
     },
     "execution_count": 19,
     "metadata": {},
     "output_type": "execute_result"
    }
   ],
   "source": [
    "train_df.isna().sum()[train_df.isna().sum() != 0]"
   ]
  },
  {
   "cell_type": "code",
   "execution_count": 20,
   "id": "49e5f5b1-7968-4234-b60e-971d32b93388",
   "metadata": {},
   "outputs": [],
   "source": [
    "# Заполнил 'LifeSquare' разностью между общей площадью и площадью кухни, \n",
    "# такое решение считаю более рельным и оно не сильно выделяется на фоне остальных данных.\n",
    "train_df.loc[train_df['LifeSquare'].isna(), 'LifeSquare'] = \\\n",
    "    train_df['Square'] - train_df['KitchenSquare']\n",
    "test_df.loc[test_df['LifeSquare'].isna(), 'LifeSquare'] = \\\n",
    "    test_df['Square'] - test_df['KitchenSquare']"
   ]
  },
  {
   "cell_type": "code",
   "execution_count": 21,
   "id": "04d42354-0544-4981-a481-420b07433bc5",
   "metadata": {},
   "outputs": [
    {
     "data": {
      "text/plain": [
       "540.0     511\n",
       "30.0      348\n",
       "1046.0    245\n",
       "750.0     163\n",
       "229.0     148\n",
       "         ... \n",
       "370.0      14\n",
       "32.0       12\n",
       "1815.0     10\n",
       "35.0        2\n",
       "0.0         1\n",
       "Name: Healthcare_1, Length: 79, dtype: int64"
      ]
     },
     "execution_count": 21,
     "metadata": {},
     "output_type": "execute_result"
    }
   ],
   "source": [
    "train_df['Healthcare_1'].value_counts() # Категориальный признак. "
   ]
  },
  {
   "cell_type": "code",
   "execution_count": 22,
   "id": "a79888b7-c0fd-42d2-b9e6-e9a6e712fc31",
   "metadata": {},
   "outputs": [],
   "source": [
    "# Признак 'Healthcare_1' заполнил медианным значением.\n",
    "train_df.loc[train_df['Healthcare_1'].isnull(), 'Healthcare_1'] = train_df['Healthcare_1'].median()\n",
    "test_df.loc[test_df['Healthcare_1'].isnull(), 'Healthcare_1'] = train_df['Healthcare_1'].median()"
   ]
  },
  {
   "cell_type": "markdown",
   "id": "c18a1732-c016-4154-a310-471d9f481474",
   "metadata": {},
   "source": [
    "## __Обработка аномальных значений__"
   ]
  },
  {
   "cell_type": "markdown",
   "id": "13e8fafd-635d-4be0-bdac-ca742fed68d8",
   "metadata": {},
   "source": [
    "<h3 style=\"text-align: center;\">Rooms - количество комнат</h3>"
   ]
  },
  {
   "cell_type": "code",
   "execution_count": 23,
   "id": "736d83f4-92bf-40a4-8d10-3c19afd0f0f5",
   "metadata": {},
   "outputs": [
    {
     "data": {
      "text/plain": [
       "2.0     3880\n",
       "1.0     3705\n",
       "3.0     2235\n",
       "4.0      150\n",
       "5.0       18\n",
       "0.0        8\n",
       "10.0       2\n",
       "19.0       1\n",
       "6.0        1\n",
       "Name: Rooms, dtype: int64"
      ]
     },
     "execution_count": 23,
     "metadata": {},
     "output_type": "execute_result"
    }
   ],
   "source": [
    "# Признак категориальный, видно что все то, что ниже 5 комнат скарей всего выбрас.\n",
    "train_df['Rooms'].value_counts() "
   ]
  },
  {
   "cell_type": "code",
   "execution_count": 24,
   "id": "5f87b3db-0a39-4408-82bf-40b70fcbf8ad",
   "metadata": {},
   "outputs": [],
   "source": [
    "# Выбрасов по комнатом совсем не много, не стал удалять, а заменил эти данные медианой.\n",
    "train_df.loc[(train_df['Rooms'] > 5)|(train_df['Rooms'] == 0), 'Rooms'] = train_df['Rooms'].median()\n",
    "test_df.loc[(test_df['Rooms'] > 5)|(test_df['Rooms'] == 0), 'Rooms'] = train_df['Rooms'].median()"
   ]
  },
  {
   "cell_type": "markdown",
   "id": "f157ec4c-d841-46df-a0df-f8ae0b9a746f",
   "metadata": {},
   "source": [
    "<h3 style=\"text-align: center;\">Square, LifeSquare, KitchenSquare - площади</h3>"
   ]
  },
  {
   "cell_type": "code",
   "execution_count": 25,
   "id": "bd3ff35c-d40c-4389-9cad-3f62786184ba",
   "metadata": {},
   "outputs": [
    {
     "data": {
      "text/html": [
       "<div>\n",
       "<style scoped>\n",
       "    .dataframe tbody tr th:only-of-type {\n",
       "        vertical-align: middle;\n",
       "    }\n",
       "\n",
       "    .dataframe tbody tr th {\n",
       "        vertical-align: top;\n",
       "    }\n",
       "\n",
       "    .dataframe thead th {\n",
       "        text-align: right;\n",
       "    }\n",
       "</style>\n",
       "<table border=\"1\" class=\"dataframe\">\n",
       "  <thead>\n",
       "    <tr style=\"text-align: right;\">\n",
       "      <th></th>\n",
       "      <th>Square</th>\n",
       "      <th>LifeSquare</th>\n",
       "      <th>KitchenSquare</th>\n",
       "    </tr>\n",
       "  </thead>\n",
       "  <tbody>\n",
       "    <tr>\n",
       "      <th>count</th>\n",
       "      <td>10000.000000</td>\n",
       "      <td>10000.000000</td>\n",
       "      <td>10000.000000</td>\n",
       "    </tr>\n",
       "    <tr>\n",
       "      <th>mean</th>\n",
       "      <td>56.315775</td>\n",
       "      <td>41.799474</td>\n",
       "      <td>6.273300</td>\n",
       "    </tr>\n",
       "    <tr>\n",
       "      <th>std</th>\n",
       "      <td>21.058732</td>\n",
       "      <td>77.823543</td>\n",
       "      <td>28.560917</td>\n",
       "    </tr>\n",
       "    <tr>\n",
       "      <th>min</th>\n",
       "      <td>1.136859</td>\n",
       "      <td>0.370619</td>\n",
       "      <td>0.000000</td>\n",
       "    </tr>\n",
       "    <tr>\n",
       "      <th>25%</th>\n",
       "      <td>41.774881</td>\n",
       "      <td>25.494155</td>\n",
       "      <td>1.000000</td>\n",
       "    </tr>\n",
       "    <tr>\n",
       "      <th>50%</th>\n",
       "      <td>52.513310</td>\n",
       "      <td>37.040829</td>\n",
       "      <td>6.000000</td>\n",
       "    </tr>\n",
       "    <tr>\n",
       "      <th>75%</th>\n",
       "      <td>65.900625</td>\n",
       "      <td>49.823229</td>\n",
       "      <td>9.000000</td>\n",
       "    </tr>\n",
       "    <tr>\n",
       "      <th>max</th>\n",
       "      <td>641.065193</td>\n",
       "      <td>7480.592129</td>\n",
       "      <td>2014.000000</td>\n",
       "    </tr>\n",
       "  </tbody>\n",
       "</table>\n",
       "</div>"
      ],
      "text/plain": [
       "             Square    LifeSquare  KitchenSquare\n",
       "count  10000.000000  10000.000000   10000.000000\n",
       "mean      56.315775     41.799474       6.273300\n",
       "std       21.058732     77.823543      28.560917\n",
       "min        1.136859      0.370619       0.000000\n",
       "25%       41.774881     25.494155       1.000000\n",
       "50%       52.513310     37.040829       6.000000\n",
       "75%       65.900625     49.823229       9.000000\n",
       "max      641.065193   7480.592129    2014.000000"
      ]
     },
     "execution_count": 25,
     "metadata": {},
     "output_type": "execute_result"
    }
   ],
   "source": [
    "# Ниже в статистике видно, что еть неестетвенное соответствие в распределении площади\n",
    "train_df[['Square', 'LifeSquare', 'KitchenSquare']].describe()"
   ]
  },
  {
   "cell_type": "markdown",
   "id": "a5ec1ca5-2806-47b1-9740-c7cdb0e59dfa",
   "metadata": {},
   "source": [
    "__KitchenSquare__"
   ]
  },
  {
   "cell_type": "code",
   "execution_count": 26,
   "id": "2d643f87-fd01-441d-b4fd-f381f9eff23d",
   "metadata": {},
   "outputs": [
    {
     "data": {
      "text/html": [
       "<div>\n",
       "<style scoped>\n",
       "    .dataframe tbody tr th:only-of-type {\n",
       "        vertical-align: middle;\n",
       "    }\n",
       "\n",
       "    .dataframe tbody tr th {\n",
       "        vertical-align: top;\n",
       "    }\n",
       "\n",
       "    .dataframe thead th {\n",
       "        text-align: right;\n",
       "    }\n",
       "</style>\n",
       "<table border=\"1\" class=\"dataframe\">\n",
       "  <thead>\n",
       "    <tr style=\"text-align: right;\">\n",
       "      <th></th>\n",
       "      <th>DistrictId</th>\n",
       "      <th>Rooms</th>\n",
       "      <th>Square</th>\n",
       "      <th>LifeSquare</th>\n",
       "      <th>KitchenSquare</th>\n",
       "      <th>Floor</th>\n",
       "      <th>HouseFloor</th>\n",
       "      <th>HouseYear</th>\n",
       "      <th>Ecology_1</th>\n",
       "      <th>Ecology_2</th>\n",
       "      <th>Ecology_3</th>\n",
       "      <th>Social_1</th>\n",
       "      <th>Social_2</th>\n",
       "      <th>Social_3</th>\n",
       "      <th>Healthcare_1</th>\n",
       "      <th>Helthcare_2</th>\n",
       "      <th>Shops_1</th>\n",
       "      <th>Shops_2</th>\n",
       "      <th>Price</th>\n",
       "    </tr>\n",
       "    <tr>\n",
       "      <th>Id</th>\n",
       "      <th></th>\n",
       "      <th></th>\n",
       "      <th></th>\n",
       "      <th></th>\n",
       "      <th></th>\n",
       "      <th></th>\n",
       "      <th></th>\n",
       "      <th></th>\n",
       "      <th></th>\n",
       "      <th></th>\n",
       "      <th></th>\n",
       "      <th></th>\n",
       "      <th></th>\n",
       "      <th></th>\n",
       "      <th></th>\n",
       "      <th></th>\n",
       "      <th></th>\n",
       "      <th></th>\n",
       "      <th></th>\n",
       "    </tr>\n",
       "  </thead>\n",
       "  <tbody>\n",
       "    <tr>\n",
       "      <th>14656</th>\n",
       "      <td>62</td>\n",
       "      <td>1.0</td>\n",
       "      <td>47.100719</td>\n",
       "      <td>46.447960</td>\n",
       "      <td>2014.0</td>\n",
       "      <td>4</td>\n",
       "      <td>1.0</td>\n",
       "      <td>2014</td>\n",
       "      <td>0.072158</td>\n",
       "      <td>1</td>\n",
       "      <td>1</td>\n",
       "      <td>2</td>\n",
       "      <td>629</td>\n",
       "      <td>1</td>\n",
       "      <td>900.0</td>\n",
       "      <td>0</td>\n",
       "      <td>0</td>\n",
       "      <td>0</td>\n",
       "      <td>108337.484207</td>\n",
       "    </tr>\n",
       "    <tr>\n",
       "      <th>13703</th>\n",
       "      <td>42</td>\n",
       "      <td>1.0</td>\n",
       "      <td>38.071692</td>\n",
       "      <td>19.723548</td>\n",
       "      <td>73.0</td>\n",
       "      <td>9</td>\n",
       "      <td>10.0</td>\n",
       "      <td>2006</td>\n",
       "      <td>0.158249</td>\n",
       "      <td>1</td>\n",
       "      <td>1</td>\n",
       "      <td>21</td>\n",
       "      <td>5731</td>\n",
       "      <td>0</td>\n",
       "      <td>900.0</td>\n",
       "      <td>1</td>\n",
       "      <td>0</td>\n",
       "      <td>1</td>\n",
       "      <td>160488.033165</td>\n",
       "    </tr>\n",
       "    <tr>\n",
       "      <th>6569</th>\n",
       "      <td>27</td>\n",
       "      <td>1.0</td>\n",
       "      <td>38.220258</td>\n",
       "      <td>18.716856</td>\n",
       "      <td>84.0</td>\n",
       "      <td>4</td>\n",
       "      <td>17.0</td>\n",
       "      <td>2018</td>\n",
       "      <td>0.011654</td>\n",
       "      <td>1</td>\n",
       "      <td>1</td>\n",
       "      <td>4</td>\n",
       "      <td>915</td>\n",
       "      <td>0</td>\n",
       "      <td>900.0</td>\n",
       "      <td>0</td>\n",
       "      <td>0</td>\n",
       "      <td>1</td>\n",
       "      <td>99079.960518</td>\n",
       "    </tr>\n",
       "    <tr>\n",
       "      <th>14679</th>\n",
       "      <td>81</td>\n",
       "      <td>1.0</td>\n",
       "      <td>32.276663</td>\n",
       "      <td>19.278394</td>\n",
       "      <td>1970.0</td>\n",
       "      <td>6</td>\n",
       "      <td>1.0</td>\n",
       "      <td>1977</td>\n",
       "      <td>0.006076</td>\n",
       "      <td>1</td>\n",
       "      <td>1</td>\n",
       "      <td>30</td>\n",
       "      <td>5285</td>\n",
       "      <td>0</td>\n",
       "      <td>645.0</td>\n",
       "      <td>6</td>\n",
       "      <td>6</td>\n",
       "      <td>1</td>\n",
       "      <td>105539.556275</td>\n",
       "    </tr>\n",
       "  </tbody>\n",
       "</table>\n",
       "</div>"
      ],
      "text/plain": [
       "      DistrictId  Rooms     Square  LifeSquare  KitchenSquare  Floor  \\\n",
       "Id                                                                     \n",
       "14656         62    1.0  47.100719   46.447960         2014.0      4   \n",
       "13703         42    1.0  38.071692   19.723548           73.0      9   \n",
       "6569          27    1.0  38.220258   18.716856           84.0      4   \n",
       "14679         81    1.0  32.276663   19.278394         1970.0      6   \n",
       "\n",
       "       HouseFloor  HouseYear  Ecology_1  Ecology_2  Ecology_3  Social_1  \\\n",
       "Id                                                                        \n",
       "14656         1.0       2014   0.072158          1          1         2   \n",
       "13703        10.0       2006   0.158249          1          1        21   \n",
       "6569         17.0       2018   0.011654          1          1         4   \n",
       "14679         1.0       1977   0.006076          1          1        30   \n",
       "\n",
       "       Social_2  Social_3  Healthcare_1  Helthcare_2  Shops_1  Shops_2  \\\n",
       "Id                                                                       \n",
       "14656       629         1         900.0            0        0        0   \n",
       "13703      5731         0         900.0            1        0        1   \n",
       "6569        915         0         900.0            0        0        1   \n",
       "14679      5285         0         645.0            6        6        1   \n",
       "\n",
       "               Price  \n",
       "Id                    \n",
       "14656  108337.484207  \n",
       "13703  160488.033165  \n",
       "6569    99079.960518  \n",
       "14679  105539.556275  "
      ]
     },
     "execution_count": 26,
     "metadata": {},
     "output_type": "execute_result"
    }
   ],
   "source": [
    "# Выбрал не соответствующие параметры кухни.\n",
    "train_df.loc[(train_df['KitchenSquare'] > train_df['Square']), :]"
   ]
  },
  {
   "cell_type": "code",
   "execution_count": 27,
   "id": "c036deba-acd0-418f-a380-f30d9839fda8",
   "metadata": {},
   "outputs": [],
   "source": [
    "# Заменил несоответствующие параметры медианой.\n",
    "train_df.loc[(train_df['KitchenSquare'] > train_df['LifeSquare']),\n",
    "             'KitchenSquare'] = train_df['LifeSquare'] - train_df['Square']\n",
    "\n",
    "test_df.loc[(test_df['KitchenSquare'] > test_df['LifeSquare']),\n",
    "             'KitchenSquare'] = test_df['LifeSquare'] - test_df['Square']"
   ]
  },
  {
   "cell_type": "markdown",
   "id": "d62f2c90-dcf7-45e6-9e3c-f74349bae2e6",
   "metadata": {},
   "source": [
    "__Square__"
   ]
  },
  {
   "cell_type": "code",
   "execution_count": 28,
   "id": "f81a8763-05aa-46d9-9a16-da85d6f45c61",
   "metadata": {},
   "outputs": [
    {
     "data": {
      "image/png": "[encoded data removed]",
      "text/plain": [
       "<Figure size 2160x360 with 1 Axes>"
      ]
     },
     "metadata": {},
     "output_type": "display_data"
    }
   ],
   "source": [
    "fig, ax = plt.subplots(figsize = (30,5))\n",
    "ax.scatter(train_df['Square'], train_df['Price'])\n",
    "ax.set_xlabel('Square')\n",
    "ax.set_ylabel('Price')\n",
    "plt.show()"
   ]
  },
  {
   "cell_type": "code",
   "execution_count": 29,
   "id": "eaf38c9a-fc92-43b4-8e81-6d7aadeaa4d4",
   "metadata": {},
   "outputs": [],
   "source": [
    "train_df.loc[(train_df['Square'] > 400) | (train_df['Square'] < 10), 'Square'] = \\\n",
    "            train_df['Square'].median()\n",
    "\n",
    "test_df.loc[(test_df['Square'] > 400) | (test_df['Square'] < 10), 'Square'] = \\\n",
    "            train_df['Square'].median()"
   ]
  },
  {
   "cell_type": "markdown",
   "id": "df3b26dd-62e9-4a5f-8496-65e589f758c7",
   "metadata": {},
   "source": [
    "__LifeSquare__"
   ]
  },
  {
   "cell_type": "code",
   "execution_count": 30,
   "id": "51daa9ab-6280-4453-a998-a03e0a11912c",
   "metadata": {},
   "outputs": [
    {
     "data": {
      "image/png": "[encoded data removed]",
      "text/plain": [
       "<Figure size 2160x360 with 1 Axes>"
      ]
     },
     "metadata": {},
     "output_type": "display_data"
    }
   ],
   "source": [
    "fig, ax = plt.subplots(figsize = (30,5))\n",
    "ax.scatter(train_df['Square'], train_df['LifeSquare'])\n",
    "ax.set_xlabel('Square')\n",
    "ax.set_ylabel('LifeSquare')\n",
    "plt.show()"
   ]
  },
  {
   "cell_type": "code",
   "execution_count": 31,
   "id": "525c531f-6720-4541-bf41-b26d249b759e",
   "metadata": {},
   "outputs": [],
   "source": [
    "# Квартиры, в которых жилая площадь больше общей, являются выбросами. Их необходимо обработать\n",
    "train_df.loc[(train_df['LifeSquare'] > train_df['Square']), 'LifeSquare'] = \\\n",
    "        train_df['Square']\n",
    "test_df.loc[(test_df['LifeSquare'] > test_df['Square']), 'LifeSquare'] = \\\n",
    "        test_df['Square']"
   ]
  },
  {
   "cell_type": "markdown",
   "id": "34faef77-ac64-45fe-929a-3e19c83b6baf",
   "metadata": {},
   "source": [
    "<h3 style=\"text-align: center;\">HouseFloor - количество этажей в доме</h3>"
   ]
  },
  {
   "cell_type": "code",
   "execution_count": 32,
   "id": "11b2b497-3fb1-4480-b37a-990379809e19",
   "metadata": {},
   "outputs": [],
   "source": [
    "# Нулевую этажность заменил на медианное значение\n",
    "train_df.loc[train_df['HouseFloor'] == 0, 'HouseFloor'] = train_df['HouseFloor'].median()\n",
    "test_df.loc[test_df['HouseFloor'] == 0, 'HouseFloor'] = train_df['HouseFloor'].median()"
   ]
  },
  {
   "cell_type": "markdown",
   "id": "cfd2b291-8c68-46f5-88c5-4757b234559e",
   "metadata": {},
   "source": [
    "<h3 style=\"text-align: center;\">Floor - этаж</h3>"
   ]
  },
  {
   "cell_type": "code",
   "execution_count": 33,
   "id": "fc2cc4b7-4cdd-464f-bf7d-9f2d17e5c16e",
   "metadata": {},
   "outputs": [],
   "source": [
    "# Исправил выбрасы по этажам\n",
    "floor_outliers_train = train_df.loc[train_df['Floor'] > train_df['HouseFloor']].index\n",
    "floor_outliers_test = test_df.loc[test_df['Floor'] > test_df['HouseFloor']].index"
   ]
  },
  {
   "cell_type": "code",
   "execution_count": 34,
   "id": "1ac57ec5-6c7f-417e-8c44-a33c880fdfb4",
   "metadata": {},
   "outputs": [],
   "source": [
    "train_df.loc[floor_outliers_train, 'Floor'] = \\\n",
    "    train_df.loc[floor_outliers_train, 'HouseFloor'].apply(lambda x: random.randint(1, x))\n",
    "test_df.loc[floor_outliers_test, 'Floor'] = \\\n",
    "    test_df.loc[floor_outliers_test, 'HouseFloor'].apply(lambda x: random.randint(1, x))"
   ]
  },
  {
   "cell_type": "markdown",
   "id": "c92a9b2e-86c6-4fe5-bc19-5e976419e77b",
   "metadata": {},
   "source": [
    "<h3 style=\"text-align: center;\">HouseYear - год постройки дома</h3>"
   ]
  },
  {
   "cell_type": "code",
   "execution_count": 35,
   "id": "c8000aad-b41d-474f-8649-a04e92baf202",
   "metadata": {},
   "outputs": [],
   "source": [
    "# Исправил выбрасы по годам.\n",
    "train_df.loc[train_df['HouseYear'] > 2020, 'HouseYear'] = 2020"
   ]
  },
  {
   "cell_type": "markdown",
   "id": "366dd8a6-452e-48e2-a7c3-ebf9ef9c86a0",
   "metadata": {},
   "source": [
    "# __Построение новых признаков__"
   ]
  },
  {
   "cell_type": "code",
   "execution_count": 36,
   "id": "2aeba5b8-1a70-4697-9c9f-1b6e05a514e9",
   "metadata": {},
   "outputs": [
    {
     "name": "stdout",
     "output_type": "stream",
     "text": [
      "205  уникальных  значений в train\n",
      "201  уникальных  значений в test\n"
     ]
    }
   ],
   "source": [
    "print(train_df['DistrictId'].nunique(), ' уникальных  значений в train')\n",
    "print(test_df['DistrictId'].nunique(), ' уникальных  значений в test')"
   ]
  },
  {
   "cell_type": "markdown",
   "id": "c4f22de8-9af5-436d-8cdb-ec45cba8f053",
   "metadata": {},
   "source": [
    "#### __DistrictSize__"
   ]
  },
  {
   "cell_type": "code",
   "execution_count": 37,
   "id": "380fe093-ae8b-4a4d-9825-63de448e8d8b",
   "metadata": {},
   "outputs": [
    {
     "data": {
      "text/html": [
       "<div>\n",
       "<style scoped>\n",
       "    .dataframe tbody tr th:only-of-type {\n",
       "        vertical-align: middle;\n",
       "    }\n",
       "\n",
       "    .dataframe tbody tr th {\n",
       "        vertical-align: top;\n",
       "    }\n",
       "\n",
       "    .dataframe thead th {\n",
       "        text-align: right;\n",
       "    }\n",
       "</style>\n",
       "<table border=\"1\" class=\"dataframe\">\n",
       "  <thead>\n",
       "    <tr style=\"text-align: right;\">\n",
       "      <th></th>\n",
       "      <th>DistrictId</th>\n",
       "      <th>DistrictSize</th>\n",
       "    </tr>\n",
       "  </thead>\n",
       "  <tbody>\n",
       "    <tr>\n",
       "      <th>0</th>\n",
       "      <td>27</td>\n",
       "      <td>851</td>\n",
       "    </tr>\n",
       "    <tr>\n",
       "      <th>1</th>\n",
       "      <td>1</td>\n",
       "      <td>652</td>\n",
       "    </tr>\n",
       "    <tr>\n",
       "      <th>2</th>\n",
       "      <td>23</td>\n",
       "      <td>565</td>\n",
       "    </tr>\n",
       "    <tr>\n",
       "      <th>3</th>\n",
       "      <td>6</td>\n",
       "      <td>511</td>\n",
       "    </tr>\n",
       "    <tr>\n",
       "      <th>4</th>\n",
       "      <td>9</td>\n",
       "      <td>294</td>\n",
       "    </tr>\n",
       "    <tr>\n",
       "      <th>...</th>\n",
       "      <td>...</td>\n",
       "      <td>...</td>\n",
       "    </tr>\n",
       "    <tr>\n",
       "      <th>200</th>\n",
       "      <td>207</td>\n",
       "      <td>1</td>\n",
       "    </tr>\n",
       "    <tr>\n",
       "      <th>201</th>\n",
       "      <td>117</td>\n",
       "      <td>1</td>\n",
       "    </tr>\n",
       "    <tr>\n",
       "      <th>202</th>\n",
       "      <td>174</td>\n",
       "      <td>1</td>\n",
       "    </tr>\n",
       "    <tr>\n",
       "      <th>203</th>\n",
       "      <td>205</td>\n",
       "      <td>1</td>\n",
       "    </tr>\n",
       "    <tr>\n",
       "      <th>204</th>\n",
       "      <td>209</td>\n",
       "      <td>1</td>\n",
       "    </tr>\n",
       "  </tbody>\n",
       "</table>\n",
       "<p>205 rows × 2 columns</p>\n",
       "</div>"
      ],
      "text/plain": [
       "    DistrictId  DistrictSize\n",
       "0           27           851\n",
       "1            1           652\n",
       "2           23           565\n",
       "3            6           511\n",
       "4            9           294\n",
       "..         ...           ...\n",
       "200        207             1\n",
       "201        117             1\n",
       "202        174             1\n",
       "203        205             1\n",
       "204        209             1\n",
       "\n",
       "[205 rows x 2 columns]"
      ]
     },
     "execution_count": 37,
     "metadata": {},
     "output_type": "execute_result"
    }
   ],
   "source": [
    "district_size = train_df['DistrictId'].value_counts().reset_index()\\\n",
    "                .rename(columns={'index':'DistrictId', 'DistrictId':'DistrictSize'})\n",
    "\n",
    "district_size"
   ]
  },
  {
   "cell_type": "code",
   "execution_count": 38,
   "id": "5d071e11-2676-4eb8-93a0-0787d3de5f1b",
   "metadata": {},
   "outputs": [
    {
     "data": {
      "text/html": [
       "<div>\n",
       "<style scoped>\n",
       "    .dataframe tbody tr th:only-of-type {\n",
       "        vertical-align: middle;\n",
       "    }\n",
       "\n",
       "    .dataframe tbody tr th {\n",
       "        vertical-align: top;\n",
       "    }\n",
       "\n",
       "    .dataframe thead th {\n",
       "        text-align: right;\n",
       "    }\n",
       "</style>\n",
       "<table border=\"1\" class=\"dataframe\">\n",
       "  <thead>\n",
       "    <tr style=\"text-align: right;\">\n",
       "      <th></th>\n",
       "      <th>DistrictId</th>\n",
       "      <th>DistrictSize</th>\n",
       "    </tr>\n",
       "  </thead>\n",
       "  <tbody>\n",
       "    <tr>\n",
       "      <th>0</th>\n",
       "      <td>999</td>\n",
       "      <td>15.0</td>\n",
       "    </tr>\n",
       "    <tr>\n",
       "      <th>1</th>\n",
       "      <td>1</td>\n",
       "      <td>652.0</td>\n",
       "    </tr>\n",
       "    <tr>\n",
       "      <th>2</th>\n",
       "      <td>11</td>\n",
       "      <td>129.0</td>\n",
       "    </tr>\n",
       "    <tr>\n",
       "      <th>3</th>\n",
       "      <td>21</td>\n",
       "      <td>165.0</td>\n",
       "    </tr>\n",
       "    <tr>\n",
       "      <th>4</th>\n",
       "      <td>23</td>\n",
       "      <td>565.0</td>\n",
       "    </tr>\n",
       "  </tbody>\n",
       "</table>\n",
       "</div>"
      ],
      "text/plain": [
       "  DistrictId  DistrictSize\n",
       "0        999          15.0\n",
       "1          1         652.0\n",
       "2         11         129.0\n",
       "3         21         165.0\n",
       "4         23         565.0"
      ]
     },
     "execution_count": 38,
     "metadata": {},
     "output_type": "execute_result"
    }
   ],
   "source": [
    "districts_popular = district_size.loc[district_size['DistrictSize'] > 100, 'DistrictId'].tolist()\n",
    "\n",
    "district_size.loc[~district_size['DistrictId'].isin(districts_popular), 'DistrictId'] = 999\n",
    "district_size = district_size.groupby('DistrictId')['DistrictSize'].agg(\n",
    "                            DistrictSize='median')\n",
    "district_size.reset_index(level='DistrictId', inplace=True)\n",
    "district_size.head()"
   ]
  },
  {
   "cell_type": "code",
   "execution_count": 39,
   "id": "a35a9b21-ab9b-4b27-bd8e-f5c162b322e2",
   "metadata": {},
   "outputs": [],
   "source": [
    "train_df.loc[~train_df['DistrictId'].isin(districts_popular), 'DistrictId'] = 999\n",
    "test_df.loc[~test_df['DistrictId'].isin(districts_popular), 'DistrictId'] = 999"
   ]
  },
  {
   "cell_type": "code",
   "execution_count": 40,
   "id": "efc0ac82-c3da-4631-a319-02249cb8162f",
   "metadata": {},
   "outputs": [
    {
     "data": {
      "text/html": [
       "<div>\n",
       "<style scoped>\n",
       "    .dataframe tbody tr th:only-of-type {\n",
       "        vertical-align: middle;\n",
       "    }\n",
       "\n",
       "    .dataframe tbody tr th {\n",
       "        vertical-align: top;\n",
       "    }\n",
       "\n",
       "    .dataframe thead th {\n",
       "        text-align: right;\n",
       "    }\n",
       "</style>\n",
       "<table border=\"1\" class=\"dataframe\">\n",
       "  <thead>\n",
       "    <tr style=\"text-align: right;\">\n",
       "      <th></th>\n",
       "      <th>DistrictId</th>\n",
       "      <th>Rooms</th>\n",
       "      <th>Square</th>\n",
       "      <th>LifeSquare</th>\n",
       "      <th>KitchenSquare</th>\n",
       "      <th>Floor</th>\n",
       "      <th>HouseFloor</th>\n",
       "      <th>HouseYear</th>\n",
       "      <th>Ecology_1</th>\n",
       "      <th>Ecology_2</th>\n",
       "      <th>Ecology_3</th>\n",
       "      <th>Social_1</th>\n",
       "      <th>Social_2</th>\n",
       "      <th>Social_3</th>\n",
       "      <th>Healthcare_1</th>\n",
       "      <th>Helthcare_2</th>\n",
       "      <th>Shops_1</th>\n",
       "      <th>Shops_2</th>\n",
       "      <th>Price</th>\n",
       "      <th>DistrictSize</th>\n",
       "    </tr>\n",
       "    <tr>\n",
       "      <th>Id</th>\n",
       "      <th></th>\n",
       "      <th></th>\n",
       "      <th></th>\n",
       "      <th></th>\n",
       "      <th></th>\n",
       "      <th></th>\n",
       "      <th></th>\n",
       "      <th></th>\n",
       "      <th></th>\n",
       "      <th></th>\n",
       "      <th></th>\n",
       "      <th></th>\n",
       "      <th></th>\n",
       "      <th></th>\n",
       "      <th></th>\n",
       "      <th></th>\n",
       "      <th></th>\n",
       "      <th></th>\n",
       "      <th></th>\n",
       "      <th></th>\n",
       "    </tr>\n",
       "  </thead>\n",
       "  <tbody>\n",
       "    <tr>\n",
       "      <th>14038</th>\n",
       "      <td>999</td>\n",
       "      <td>2.0</td>\n",
       "      <td>47.981561</td>\n",
       "      <td>29.442751</td>\n",
       "      <td>6.0</td>\n",
       "      <td>7</td>\n",
       "      <td>9.0</td>\n",
       "      <td>1969</td>\n",
       "      <td>0.089040</td>\n",
       "      <td>1</td>\n",
       "      <td>1</td>\n",
       "      <td>33</td>\n",
       "      <td>7976</td>\n",
       "      <td>5</td>\n",
       "      <td>900.0</td>\n",
       "      <td>0</td>\n",
       "      <td>11</td>\n",
       "      <td>1</td>\n",
       "      <td>184966.930730</td>\n",
       "      <td>15.0</td>\n",
       "    </tr>\n",
       "    <tr>\n",
       "      <th>15053</th>\n",
       "      <td>999</td>\n",
       "      <td>3.0</td>\n",
       "      <td>65.683640</td>\n",
       "      <td>40.049543</td>\n",
       "      <td>8.0</td>\n",
       "      <td>7</td>\n",
       "      <td>9.0</td>\n",
       "      <td>1978</td>\n",
       "      <td>0.000070</td>\n",
       "      <td>1</td>\n",
       "      <td>1</td>\n",
       "      <td>46</td>\n",
       "      <td>10309</td>\n",
       "      <td>1</td>\n",
       "      <td>240.0</td>\n",
       "      <td>1</td>\n",
       "      <td>16</td>\n",
       "      <td>1</td>\n",
       "      <td>300009.450063</td>\n",
       "      <td>15.0</td>\n",
       "    </tr>\n",
       "    <tr>\n",
       "      <th>4765</th>\n",
       "      <td>53</td>\n",
       "      <td>2.0</td>\n",
       "      <td>44.947953</td>\n",
       "      <td>29.197612</td>\n",
       "      <td>0.0</td>\n",
       "      <td>8</td>\n",
       "      <td>12.0</td>\n",
       "      <td>1968</td>\n",
       "      <td>0.049637</td>\n",
       "      <td>1</td>\n",
       "      <td>1</td>\n",
       "      <td>34</td>\n",
       "      <td>7759</td>\n",
       "      <td>0</td>\n",
       "      <td>229.0</td>\n",
       "      <td>1</td>\n",
       "      <td>3</td>\n",
       "      <td>1</td>\n",
       "      <td>220925.908524</td>\n",
       "      <td>174.0</td>\n",
       "    </tr>\n",
       "    <tr>\n",
       "      <th>5809</th>\n",
       "      <td>58</td>\n",
       "      <td>2.0</td>\n",
       "      <td>53.352981</td>\n",
       "      <td>52.731512</td>\n",
       "      <td>9.0</td>\n",
       "      <td>8</td>\n",
       "      <td>17.0</td>\n",
       "      <td>1977</td>\n",
       "      <td>0.437885</td>\n",
       "      <td>1</td>\n",
       "      <td>1</td>\n",
       "      <td>23</td>\n",
       "      <td>5735</td>\n",
       "      <td>3</td>\n",
       "      <td>1084.0</td>\n",
       "      <td>0</td>\n",
       "      <td>5</td>\n",
       "      <td>1</td>\n",
       "      <td>175616.227217</td>\n",
       "      <td>179.0</td>\n",
       "    </tr>\n",
       "    <tr>\n",
       "      <th>10783</th>\n",
       "      <td>999</td>\n",
       "      <td>1.0</td>\n",
       "      <td>39.649192</td>\n",
       "      <td>23.776169</td>\n",
       "      <td>7.0</td>\n",
       "      <td>11</td>\n",
       "      <td>12.0</td>\n",
       "      <td>1976</td>\n",
       "      <td>0.012339</td>\n",
       "      <td>1</td>\n",
       "      <td>1</td>\n",
       "      <td>35</td>\n",
       "      <td>5776</td>\n",
       "      <td>1</td>\n",
       "      <td>2078.0</td>\n",
       "      <td>2</td>\n",
       "      <td>4</td>\n",
       "      <td>1</td>\n",
       "      <td>150226.531644</td>\n",
       "      <td>15.0</td>\n",
       "    </tr>\n",
       "  </tbody>\n",
       "</table>\n",
       "</div>"
      ],
      "text/plain": [
       "      DistrictId  Rooms     Square  LifeSquare  KitchenSquare  Floor  \\\n",
       "Id                                                                     \n",
       "14038        999    2.0  47.981561   29.442751            6.0      7   \n",
       "15053        999    3.0  65.683640   40.049543            8.0      7   \n",
       "4765          53    2.0  44.947953   29.197612            0.0      8   \n",
       "5809          58    2.0  53.352981   52.731512            9.0      8   \n",
       "10783        999    1.0  39.649192   23.776169            7.0     11   \n",
       "\n",
       "       HouseFloor  HouseYear  Ecology_1  Ecology_2  Ecology_3  Social_1  \\\n",
       "Id                                                                        \n",
       "14038         9.0       1969   0.089040          1          1        33   \n",
       "15053         9.0       1978   0.000070          1          1        46   \n",
       "4765         12.0       1968   0.049637          1          1        34   \n",
       "5809         17.0       1977   0.437885          1          1        23   \n",
       "10783        12.0       1976   0.012339          1          1        35   \n",
       "\n",
       "       Social_2  Social_3  Healthcare_1  Helthcare_2  Shops_1  Shops_2  \\\n",
       "Id                                                                       \n",
       "14038      7976         5         900.0            0       11        1   \n",
       "15053     10309         1         240.0            1       16        1   \n",
       "4765       7759         0         229.0            1        3        1   \n",
       "5809       5735         3        1084.0            0        5        1   \n",
       "10783      5776         1        2078.0            2        4        1   \n",
       "\n",
       "               Price  DistrictSize  \n",
       "Id                                  \n",
       "14038  184966.930730          15.0  \n",
       "15053  300009.450063          15.0  \n",
       "4765   220925.908524         174.0  \n",
       "5809   175616.227217         179.0  \n",
       "10783  150226.531644          15.0  "
      ]
     },
     "execution_count": 40,
     "metadata": {},
     "output_type": "execute_result"
    }
   ],
   "source": [
    "train_df = train_df.merge(district_size, on='DistrictId', how='left').set_index(train_df.index)\n",
    "test_df = test_df.merge(district_size, on='DistrictId', how='left').set_index(test_df.index)\n",
    "train_df.head()"
   ]
  },
  {
   "cell_type": "markdown",
   "id": "435a3b3f-4f49-433b-8491-e53464046415",
   "metadata": {},
   "source": [
    "#### __PriceOneRoomByDistrict__"
   ]
  },
  {
   "cell_type": "code",
   "execution_count": 41,
   "id": "f6200500-3a78-4069-b669-17ed68a3d1b9",
   "metadata": {},
   "outputs": [],
   "source": [
    "train_df['PriceOneRoom'] = train_df['Price'] / train_df['Rooms']"
   ]
  },
  {
   "cell_type": "code",
   "execution_count": 42,
   "id": "31188a78-f58a-4b95-8528-2d6edbff02c4",
   "metadata": {},
   "outputs": [
    {
     "data": {
      "text/html": [
       "<div>\n",
       "<style scoped>\n",
       "    .dataframe tbody tr th:only-of-type {\n",
       "        vertical-align: middle;\n",
       "    }\n",
       "\n",
       "    .dataframe tbody tr th {\n",
       "        vertical-align: top;\n",
       "    }\n",
       "\n",
       "    .dataframe thead th {\n",
       "        text-align: right;\n",
       "    }\n",
       "</style>\n",
       "<table border=\"1\" class=\"dataframe\">\n",
       "  <thead>\n",
       "    <tr style=\"text-align: right;\">\n",
       "      <th></th>\n",
       "      <th>DistrictId</th>\n",
       "      <th>PriceOneRoomByDistrict</th>\n",
       "    </tr>\n",
       "  </thead>\n",
       "  <tbody>\n",
       "    <tr>\n",
       "      <th>0</th>\n",
       "      <td>999</td>\n",
       "      <td>129339.268164</td>\n",
       "    </tr>\n",
       "    <tr>\n",
       "      <th>1</th>\n",
       "      <td>1</td>\n",
       "      <td>106080.898140</td>\n",
       "    </tr>\n",
       "    <tr>\n",
       "      <th>2</th>\n",
       "      <td>11</td>\n",
       "      <td>100098.984216</td>\n",
       "    </tr>\n",
       "    <tr>\n",
       "      <th>3</th>\n",
       "      <td>21</td>\n",
       "      <td>104448.247925</td>\n",
       "    </tr>\n",
       "    <tr>\n",
       "      <th>4</th>\n",
       "      <td>23</td>\n",
       "      <td>76232.424372</td>\n",
       "    </tr>\n",
       "  </tbody>\n",
       "</table>\n",
       "</div>"
      ],
      "text/plain": [
       "  DistrictId  PriceOneRoomByDistrict\n",
       "0        999           129339.268164\n",
       "1          1           106080.898140\n",
       "2         11           100098.984216\n",
       "3         21           104448.247925\n",
       "4         23            76232.424372"
      ]
     },
     "execution_count": 42,
     "metadata": {},
     "output_type": "execute_result"
    }
   ],
   "source": [
    "price_by_district = train_df.groupby(['DistrictId'], as_index=False)\\\n",
    "                        .agg({'PriceOneRoom':'median'})\\\n",
    "                        .rename(columns={'PriceOneRoom':'PriceOneRoomByDistrict'})\n",
    "\n",
    "price_by_district.head()"
   ]
  },
  {
   "cell_type": "code",
   "execution_count": 43,
   "id": "7ad8c01f-c5ca-4b13-90ba-4017ac1ac7b0",
   "metadata": {},
   "outputs": [],
   "source": [
    "train_df = train_df.merge(price_by_district, on=['DistrictId'], how='left').set_index(train_df.index)\n",
    "test_df = test_df.merge(price_by_district, on=['DistrictId'], how='left').set_index(test_df.index)"
   ]
  },
  {
   "cell_type": "code",
   "execution_count": 44,
   "id": "5fa5ca69-7c7e-4b45-b19c-c1e6e6ca5e5e",
   "metadata": {},
   "outputs": [],
   "source": [
    "train_df = train_df.drop(['PriceOneRoom'], axis=1)"
   ]
  },
  {
   "cell_type": "markdown",
   "id": "8d049b28-4ded-4e1e-acd4-1a3a52ff1f43",
   "metadata": {},
   "source": [
    "#### __RoomSquare__"
   ]
  },
  {
   "cell_type": "code",
   "execution_count": 45,
   "id": "5d0119d8-ca4b-469b-be9b-53ff04345ed1",
   "metadata": {},
   "outputs": [],
   "source": [
    "train_df['RoomSquare'] = train_df['Square'] / train_df['Rooms']\n",
    "test_df['RoomSquare'] = test_df['Square'] / test_df['Rooms']"
   ]
  },
  {
   "cell_type": "markdown",
   "id": "1a8306cd-50f5-4865-85f7-cecd1233fbc0",
   "metadata": {},
   "source": [
    "# __Анализ данных__"
   ]
  },
  {
   "cell_type": "code",
   "execution_count": 46,
   "id": "ec442dbc-2379-4092-a764-3cc0ab2a1e4c",
   "metadata": {},
   "outputs": [
    {
     "data": {
      "text/plain": [
       "['DistrictId',\n",
       " 'Rooms',\n",
       " 'Square',\n",
       " 'LifeSquare',\n",
       " 'KitchenSquare',\n",
       " 'Floor',\n",
       " 'HouseFloor',\n",
       " 'HouseYear',\n",
       " 'Ecology_1',\n",
       " 'Ecology_2',\n",
       " 'Ecology_3',\n",
       " 'Social_1',\n",
       " 'Social_2',\n",
       " 'Social_3',\n",
       " 'Healthcare_1',\n",
       " 'Helthcare_2',\n",
       " 'Shops_1',\n",
       " 'Shops_2',\n",
       " 'Price',\n",
       " 'DistrictSize',\n",
       " 'PriceOneRoomByDistrict',\n",
       " 'RoomSquare']"
      ]
     },
     "execution_count": 46,
     "metadata": {},
     "output_type": "execute_result"
    }
   ],
   "source": [
    "feature_names = train_df.columns\n",
    "feature_names.tolist()"
   ]
  },
  {
   "cell_type": "code",
   "execution_count": 47,
   "id": "2a25f039-ab97-4b8c-9291-5d1d11a6b699",
   "metadata": {},
   "outputs": [],
   "source": [
    "target_names = 'Price'\n",
    "feature_names = ['DistrictId',\n",
    "                 'Rooms',\n",
    "                 'Square',\n",
    "                 'LifeSquare',\n",
    "                 'KitchenSquare',\n",
    "                 'Floor',\n",
    "                 'HouseFloor',\n",
    "                 'HouseYear',\n",
    "                 'Ecology_1',\n",
    "                 'Ecology_2',\n",
    "                 'Ecology_3',\n",
    "                 'Social_1',\n",
    "                 'Social_2',\n",
    "                 'Social_3',\n",
    "                 'Healthcare_1',\n",
    "                 'Helthcare_2',\n",
    "                 'Shops_1',\n",
    "                 'Shops_2',\n",
    "                 'DistrictSize',\n",
    "                 'PriceOneRoomByDistrict',\n",
    "                 'RoomSquare']"
   ]
  },
  {
   "cell_type": "code",
   "execution_count": 48,
   "id": "2835fe6d-91b4-42c5-8f02-fcfb551d6e1d",
   "metadata": {},
   "outputs": [],
   "source": [
    "X = train_df[feature_names]\n",
    "y = train_df[target_names]"
   ]
  },
  {
   "cell_type": "code",
   "execution_count": 49,
   "id": "3e76b6d0-69b7-4874-a0d0-0c8451a3b031",
   "metadata": {},
   "outputs": [],
   "source": [
    "X_train, X_test, y_train, y_test = train_test_split(X, y, test_size=0.33, shuffle=True, random_state=21)"
   ]
  },
  {
   "cell_type": "markdown",
   "id": "02a0072a-d60f-451f-b4ff-67e9cb0da01b",
   "metadata": {},
   "source": [
    "### __Случайный лес__"
   ]
  },
  {
   "cell_type": "code",
   "execution_count": 50,
   "id": "d805d0ea-1c9c-45bd-b29f-af56060186fe",
   "metadata": {},
   "outputs": [
    {
     "data": {
      "text/plain": [
       "RandomForestRegressor(max_depth=15, max_features=9, random_state=21)"
      ]
     },
     "execution_count": 50,
     "metadata": {},
     "output_type": "execute_result"
    }
   ],
   "source": [
    "rf_model = RandomForestRegressor(max_depth=15,\n",
    "                                    max_features=9,\n",
    "                                    random_state=21)\n",
    "rf_model.fit(X_train, y_train)"
   ]
  },
  {
   "cell_type": "code",
   "execution_count": 51,
   "id": "6732825a-840e-45d7-94b0-1f5284a25a88",
   "metadata": {},
   "outputs": [],
   "source": [
    "y_train_preds = rf_model.predict(X_train)\n",
    "y_test_preds = rf_model.predict(X_test)"
   ]
  },
  {
   "cell_type": "code",
   "execution_count": 52,
   "id": "f8ff1e18-16b0-474e-b122-85fc33270bc1",
   "metadata": {},
   "outputs": [
    {
     "name": "stdout",
     "output_type": "stream",
     "text": [
      "Train R2:\t0.938\n",
      "Test R2:\t0.736\n"
     ]
    },
    {
     "data": {
      "image/png": "[encoded data removed]",
      "text/plain": [
       "<Figure size 1296x720 with 2 Axes>"
      ]
     },
     "metadata": {},
     "output_type": "display_data"
    }
   ],
   "source": [
    "evaluate_preds(y_train, y_train_preds, y_test, y_test_preds)"
   ]
  },
  {
   "cell_type": "code",
   "execution_count": 53,
   "id": "ebb99367-4ba8-4766-b5b6-43ee1dbda9c2",
   "metadata": {},
   "outputs": [
    {
     "data": {
      "text/plain": [
       "array([0.73423511, 0.72722497, 0.75193772])"
      ]
     },
     "execution_count": 53,
     "metadata": {},
     "output_type": "execute_result"
    }
   ],
   "source": [
    "cv_score = cross_val_score(rf_model, X, y, scoring='r2', cv=KFold(n_splits=3, shuffle=True, random_state=21))\n",
    "cv_score"
   ]
  },
  {
   "cell_type": "code",
   "execution_count": 54,
   "id": "0df7cfe2-080a-4af2-9172-e27ae73d3ff1",
   "metadata": {},
   "outputs": [
    {
     "data": {
      "text/plain": [
       "0.7377992672531674"
      ]
     },
     "execution_count": 54,
     "metadata": {},
     "output_type": "execute_result"
    }
   ],
   "source": [
    "cv_score.mean()"
   ]
  },
  {
   "cell_type": "markdown",
   "id": "1063d000-2543-451f-8ec7-59d714d714e7",
   "metadata": {},
   "source": [
    "### __Линейная регрессия__"
   ]
  },
  {
   "cell_type": "code",
   "execution_count": 55,
   "id": "fc390d44-39a2-4bae-a42b-aa54e87fd3b1",
   "metadata": {},
   "outputs": [
    {
     "data": {
      "text/plain": [
       "0.6006570794592163"
      ]
     },
     "execution_count": 55,
     "metadata": {},
     "output_type": "execute_result"
    }
   ],
   "source": [
    "linear_regression = LinearRegression()\n",
    "linear_regression.fit(X_train, y_train)\n",
    "predictions = linear_regression.predict(X_test)\n",
    "\n",
    "lr = cross_val_score(linear_regression, X, y, cv=10, scoring=\"r2\").mean()\n",
    "lr"
   ]
  },
  {
   "cell_type": "code",
   "execution_count": 56,
   "id": "23060d46-b9da-4ed3-9a41-d1b5f29a5527",
   "metadata": {},
   "outputs": [
    {
     "data": {
      "text/plain": [
       "True"
      ]
     },
     "execution_count": 56,
     "metadata": {},
     "output_type": "execute_result"
    }
   ],
   "source": [
    "cv_score.mean() > lr"
   ]
  },
  {
   "cell_type": "markdown",
   "id": "5c571327-89fd-4ac0-9be7-31dbc26539b3",
   "metadata": {},
   "source": [
    "Случайный лес показал лутше результат"
   ]
  },
  {
   "cell_type": "markdown",
   "id": "d5b716cf-74fd-4e65-b1b6-0ac61b7ba765",
   "metadata": {},
   "source": [
    "### __Важность признаков__"
   ]
  },
  {
   "cell_type": "code",
   "execution_count": 57,
   "id": "f687a071-4c24-415f-a685-18b881232136",
   "metadata": {},
   "outputs": [
    {
     "data": {
      "text/html": [
       "<div>\n",
       "<style scoped>\n",
       "    .dataframe tbody tr th:only-of-type {\n",
       "        vertical-align: middle;\n",
       "    }\n",
       "\n",
       "    .dataframe tbody tr th {\n",
       "        vertical-align: top;\n",
       "    }\n",
       "\n",
       "    .dataframe thead th {\n",
       "        text-align: right;\n",
       "    }\n",
       "</style>\n",
       "<table border=\"1\" class=\"dataframe\">\n",
       "  <thead>\n",
       "    <tr style=\"text-align: right;\">\n",
       "      <th></th>\n",
       "      <th>feature_name</th>\n",
       "      <th>importance</th>\n",
       "    </tr>\n",
       "  </thead>\n",
       "  <tbody>\n",
       "    <tr>\n",
       "      <th>2</th>\n",
       "      <td>Square</td>\n",
       "      <td>0.306938</td>\n",
       "    </tr>\n",
       "    <tr>\n",
       "      <th>1</th>\n",
       "      <td>Rooms</td>\n",
       "      <td>0.108446</td>\n",
       "    </tr>\n",
       "    <tr>\n",
       "      <th>19</th>\n",
       "      <td>PriceOneRoomByDistrict</td>\n",
       "      <td>0.094697</td>\n",
       "    </tr>\n",
       "    <tr>\n",
       "      <th>18</th>\n",
       "      <td>DistrictSize</td>\n",
       "      <td>0.064917</td>\n",
       "    </tr>\n",
       "    <tr>\n",
       "      <th>3</th>\n",
       "      <td>LifeSquare</td>\n",
       "      <td>0.063879</td>\n",
       "    </tr>\n",
       "  </tbody>\n",
       "</table>\n",
       "</div>"
      ],
      "text/plain": [
       "              feature_name  importance\n",
       "2                   Square    0.306938\n",
       "1                    Rooms    0.108446\n",
       "19  PriceOneRoomByDistrict    0.094697\n",
       "18            DistrictSize    0.064917\n",
       "3               LifeSquare    0.063879"
      ]
     },
     "execution_count": 57,
     "metadata": {},
     "output_type": "execute_result"
    }
   ],
   "source": [
    "feature_importances = pd.DataFrame(zip(X_train.columns, rf_model.feature_importances_),columns=['feature_name', 'importance'])\n",
    "feature_importances.sort_values(by='importance', ascending=False).head()"
   ]
  },
  {
   "cell_type": "code",
   "execution_count": 58,
   "id": "cc91ab29-8ae2-4184-800d-3d8b7a357897",
   "metadata": {},
   "outputs": [
    {
     "data": {
      "image/png": "[encoded data removed]",
      "text/plain": [
       "<Figure size 432x288 with 1 Axes>"
      ]
     },
     "metadata": {},
     "output_type": "display_data"
    }
   ],
   "source": [
    "feature_importances.plot.bar()\n",
    "plt.show()"
   ]
  },
  {
   "cell_type": "markdown",
   "id": "7972d1d3-1e1d-4601-b5aa-3c99af9c42f9",
   "metadata": {},
   "source": [
    "__Вывод__ - подготовили данные, поправил выбрасы и заполнил недастоющие данные, наилучшая модель - дерево решений с максимальной глубиной в 9. r2 составил 0.73.\n",
    "Большое значение на влияние цены играют таки факторы, как площадь кавартиры и кооличество комнат и в меньшей степени район."
   ]
  },
  {
   "cell_type": "code",
   "execution_count": 59,
   "id": "8b011d04-e846-40c9-b036-e4c73ee0aac7",
   "metadata": {},
   "outputs": [
    {
     "data": {
      "text/plain": [
       "array([165628.10725566, 232625.24537978, 236824.22000295, ...,\n",
       "       320508.92984901, 196176.18444004, 174069.916303  ])"
      ]
     },
     "execution_count": 59,
     "metadata": {},
     "output_type": "execute_result"
    }
   ],
   "source": [
    "forest_best = RandomForestRegressor(max_depth=15,\n",
    "                                    max_features=5,\n",
    "                                    random_state=21)\n",
    "forest_best.fit(X, y)\n",
    "y_pred = forest_best.predict(test_df[feature_names])\n",
    "y_pred"
   ]
  },
  {
   "cell_type": "code",
   "execution_count": 60,
   "id": "fedfb058-9f80-45ed-a23f-288283dd93ea",
   "metadata": {},
   "outputs": [
    {
     "data": {
      "text/html": [
       "<div>\n",
       "<style scoped>\n",
       "    .dataframe tbody tr th:only-of-type {\n",
       "        vertical-align: middle;\n",
       "    }\n",
       "\n",
       "    .dataframe tbody tr th {\n",
       "        vertical-align: top;\n",
       "    }\n",
       "\n",
       "    .dataframe thead th {\n",
       "        text-align: right;\n",
       "    }\n",
       "</style>\n",
       "<table border=\"1\" class=\"dataframe\">\n",
       "  <thead>\n",
       "    <tr style=\"text-align: right;\">\n",
       "      <th></th>\n",
       "      <th>Id</th>\n",
       "      <th>Price</th>\n",
       "    </tr>\n",
       "  </thead>\n",
       "  <tbody>\n",
       "    <tr>\n",
       "      <th>0</th>\n",
       "      <td>725</td>\n",
       "      <td>165628.107256</td>\n",
       "    </tr>\n",
       "    <tr>\n",
       "      <th>1</th>\n",
       "      <td>15856</td>\n",
       "      <td>232625.245380</td>\n",
       "    </tr>\n",
       "    <tr>\n",
       "      <th>2</th>\n",
       "      <td>5480</td>\n",
       "      <td>236824.220003</td>\n",
       "    </tr>\n",
       "    <tr>\n",
       "      <th>3</th>\n",
       "      <td>15664</td>\n",
       "      <td>340063.496124</td>\n",
       "    </tr>\n",
       "    <tr>\n",
       "      <th>4</th>\n",
       "      <td>14275</td>\n",
       "      <td>143379.338498</td>\n",
       "    </tr>\n",
       "  </tbody>\n",
       "</table>\n",
       "</div>"
      ],
      "text/plain": [
       "      Id          Price\n",
       "0    725  165628.107256\n",
       "1  15856  232625.245380\n",
       "2   5480  236824.220003\n",
       "3  15664  340063.496124\n",
       "4  14275  143379.338498"
      ]
     },
     "execution_count": 60,
     "metadata": {},
     "output_type": "execute_result"
    }
   ],
   "source": [
    "preds = pd.DataFrame()\n",
    "preds['Id'] = test_df.index\n",
    "preds['Price'] = y_pred\n",
    "preds.head()"
   ]
  },
  {
   "cell_type": "code",
   "execution_count": 61,
   "id": "ed2f1a35-c502-44c3-9480-16aefeff75a3",
   "metadata": {},
   "outputs": [
    {
     "name": "stdout",
     "output_type": "stream",
     "text": [
      "<class 'pandas.core.frame.DataFrame'>\n",
      "RangeIndex: 5000 entries, 0 to 4999\n",
      "Data columns (total 2 columns):\n",
      " #   Column  Non-Null Count  Dtype  \n",
      "---  ------  --------------  -----  \n",
      " 0   Id      5000 non-null   int64  \n",
      " 1   Price   5000 non-null   float64\n",
      "dtypes: float64(1), int64(1)\n",
      "memory usage: 78.2 KB\n"
     ]
    }
   ],
   "source": [
    "preds.info()"
   ]
  },
  {
   "cell_type": "code",
   "execution_count": 62,
   "id": "8e029f31-4c0b-44ab-a3bc-e53000500037",
   "metadata": {},
   "outputs": [],
   "source": [
    "preds.to_csv('DRudenko_predictions.csv', index=False)"
   ]
  },
  {
   "cell_type": "code",
   "execution_count": null,
   "id": "770b251f-636d-45da-a036-3098fd6a4d75",
   "metadata": {},
   "outputs": [],
   "source": []
  }
 ],
 "metadata": {
  "kernelspec": {
   "display_name": "Python 3 (ipykernel)",
   "language": "python",
   "name": "python3"
  },
  "language_info": {
   "codemirror_mode": {
    "name": "ipython",
    "version": 3
   },
   "file_extension": ".py",
   "mimetype": "text/x-python",
   "name": "python",
   "nbconvert_exporter": "python",
   "pygments_lexer": "ipython3",
   "version": "3.9.12"
  }
 },
 "nbformat": 4,
 "nbformat_minor": 5
}
